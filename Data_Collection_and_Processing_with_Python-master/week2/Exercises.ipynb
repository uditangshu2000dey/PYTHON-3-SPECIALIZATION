{
 "cells": [
  {
   "cell_type": "markdown",
   "metadata": {},
   "source": [
    "# Exercises: Map, Filter, List Comprehension and Zip"
   ]
  },
  {
   "cell_type": "code",
   "execution_count": 1,
   "metadata": {},
   "outputs": [
    {
     "name": "stdout",
     "output_type": "stream",
     "text": [
      "[4, 6, -3, 8]\n",
      "<map object at 0x7f1230521438>\n"
     ]
    }
   ],
   "source": [
    "#1. Write equivalent code using map instead of the manual accumulation below and assign it to the variable test.\n",
    "things = [3, 5, -4, 7]\n",
    "\n",
    "accum = []\n",
    "for thing in things:\n",
    "    accum.append(thing+1)\n",
    "print(accum)\n",
    "\n",
    "test = map(lambda x:x+1,things)\n",
    "print (test)\n"
   ]
  },
  {
   "cell_type": "code",
   "execution_count": 4,
   "metadata": {},
   "outputs": [
    {
     "name": "stdout",
     "output_type": "stream",
     "text": [
      "[5, 4, 2]\n"
     ]
    }
   ],
   "source": [
    "#2. Use manual accumulation to define the lengths function below.\n",
    "str_len = []\n",
    "def lengths(strings):\n",
    "    \"\"\"lengths takes a list of strings as input and returns a list of numbers that are the lengths\n",
    "    of strings in the input list. Use manual accumulation!\"\"\"\n",
    "    # fill in this function's definition to make the test pass.\n",
    "    for st in strings:\n",
    "        str_len.append(len(st))\n",
    "    return str_len\n",
    "lengths(['hello','nine','on'])\n",
    "print (str_len)"
   ]
  },
  {
   "cell_type": "code",
   "execution_count": 5,
   "metadata": {},
   "outputs": [
    {
     "name": "stdout",
     "output_type": "stream",
     "text": [
      "<map object at 0x7f1230521320>\n"
     ]
    }
   ],
   "source": [
    "#3. Now define lengths using map instead.\n",
    "def lengths(strings):\n",
    "    \"\"\"lengths takes a list of strings as input and returns a list of numbers that are the lengths\n",
    "     of strings in the input list. Use map!\"\"\"\n",
    "     # fill in this function's definition to make the test pass.\n",
    "    str_len = map(lambda s:len(s),strings)\n",
    "    return str_len\n",
    "print (lengths(['hello','cat']))"
   ]
  },
  {
   "cell_type": "code",
   "execution_count": 6,
   "metadata": {},
   "outputs": [
    {
     "name": "stdout",
     "output_type": "stream",
     "text": [
      "[5, 3]\n"
     ]
    }
   ],
   "source": [
    "#4. Now define lengths using a list comprehension instead.\n",
    "def lengths(strings):\n",
    "    \"\"\"lengths takes a list of strings as input and returns a list of numbers that are the lengths\n",
    "    of strings in the input list. Use a list comprehension!\"\"\"\n",
    "    # fill in this function's definition to make the test pass.\n",
    "    str_len = [len(s) for s in strings]\n",
    "    return str_len\n",
    "print (lengths(['hello','cat']))\n"
   ]
  },
  {
   "cell_type": "code",
   "execution_count": 10,
   "metadata": {},
   "outputs": [
    {
     "name": "stdout",
     "output_type": "stream",
     "text": [
      "[3, 5, 7]\n",
      "[3, 5, 7]\n"
     ]
    }
   ],
   "source": [
    "#5. Write a function called positives_Acc that receives list of numbers as the input (like [3, -1, 5, 7]) and returns a list of only the positive numbers, [3, 5, 7], via manual accumulation.\n",
    "things = [3, 5, -4, 7]\n",
    "pos_lst = []\n",
    "def positives_Acc(lst):\n",
    "    for num in lst:\n",
    "        if num >= 0:\n",
    "            pos_lst.append(num)\n",
    "    print (pos_lst)\n",
    "    return pos_lst\n",
    "print (positives_Acc(things))"
   ]
  },
  {
   "cell_type": "code",
   "execution_count": 11,
   "metadata": {},
   "outputs": [
    {
     "name": "stdout",
     "output_type": "stream",
     "text": [
      "<filter object at 0x7f1230521b38>\n"
     ]
    },
    {
     "data": {
      "text/plain": [
       "<filter at 0x7f1230521b38>"
      ]
     },
     "execution_count": 11,
     "metadata": {},
     "output_type": "execute_result"
    }
   ],
   "source": [
    "'''\n",
    "6. Write a function called positives_Fil that receives list of things as the input and returns a list of only \n",
    "the positive things, [3, 5, 7], using the filter function.\n",
    "'''\n",
    "things = [3, 5, -4, 7]\n",
    "\n",
    "def positives_Fil(lst):\n",
    "    pos_things = filter(lambda n:n >= 0,lst)\n",
    "    print (pos_things)\n",
    "    return pos_things\n",
    "positives_Fil(things)"
   ]
  },
  {
   "cell_type": "code",
   "execution_count": 12,
   "metadata": {},
   "outputs": [
    {
     "name": "stdout",
     "output_type": "stream",
     "text": [
      "[3, 5, 7]\n"
     ]
    },
    {
     "data": {
      "text/plain": [
       "[3, 5, 7]"
      ]
     },
     "execution_count": 12,
     "metadata": {},
     "output_type": "execute_result"
    }
   ],
   "source": [
    "'''\n",
    "7. Write a function called positives_Li_Com that receives list of things as the input and returns a list of \n",
    "only the positive things, [3, 5, 7], using the list comprehension.\n",
    "'''\n",
    "things = [3, 5, -4, 7]\n",
    "def positives_Li_Com(lst):\n",
    "    pos_things = [s for s in things if s >= 0]\n",
    "    print (pos_things)\n",
    "    return pos_things\n",
    "positives_Li_Com(things)"
   ]
  },
  {
   "cell_type": "code",
   "execution_count": 13,
   "metadata": {},
   "outputs": [
    {
     "name": "stdout",
     "output_type": "stream",
     "text": [
      "['hello']\n",
      "['hello']\n"
     ]
    }
   ],
   "source": [
    "#8. Define longwords using manual accumulation.\n",
    "short_lst = []\n",
    "def longwords(strings):\n",
    "    \"\"\"Return a shorter list of strings containing only the strings with more than four characters. Use manual accumulation.\"\"\"\n",
    "    # write your code here\n",
    "    for string in strings:\n",
    "        if len(string) > 4:\n",
    "            short_lst.append(string)\n",
    "    print (short_lst)\n",
    "    return short_lst\n",
    "print (longwords(['Hi','hello']))"
   ]
  },
  {
   "cell_type": "code",
   "execution_count": 29,
   "metadata": {},
   "outputs": [
    {
     "name": "stdout",
     "output_type": "stream",
     "text": [
      "['bangbong']\n"
     ]
    },
    {
     "data": {
      "text/plain": [
       "['bangbong']"
      ]
     },
     "execution_count": 29,
     "metadata": {},
     "output_type": "execute_result"
    }
   ],
   "source": [
    "#9. Define longwords using filter.\n",
    "short_lst = []\n",
    "def longwords_Fil(strings):\n",
    "    \"\"\"Return a shorter list of strings containing only the strings with more than four characters. Use the filter function.\"\"\"\n",
    "    # write your code here\n",
    "    short_lst = filter(lambda s:len(s) > 4,strings)\n",
    "    #print (short_lst)\n",
    "    return short_lst\n",
    "longwords(['Go','hero','bangbong'])"
   ]
  },
  {
   "cell_type": "code",
   "execution_count": 30,
   "metadata": {},
   "outputs": [
    {
     "name": "stdout",
     "output_type": "stream",
     "text": [
      "['bangbong']\n",
      "['bangbong']\n"
     ]
    }
   ],
   "source": [
    "#10. Define longwords using a list comprehension.\n",
    "short_lst = []\n",
    "def longwords_Li_Comp(strings):\n",
    "    \"\"\"Return a shorter list of strings containing only the strings with more than four characters. Use a list comprehension.\"\"\"\n",
    "    # write your code here\n",
    "    short_lst = [st for st in strings if len(st) > 4]\n",
    "    print (short_lst)\n",
    "    return short_lst\n",
    "print (longwords(['Go','hero','bangbong']))"
   ]
  },
  {
   "cell_type": "code",
   "execution_count": 32,
   "metadata": {},
   "outputs": [
    {
     "name": "stdout",
     "output_type": "stream",
     "text": [
      "[4, 4, 5]\n"
     ]
    },
    {
     "data": {
      "text/plain": [
       "[4, 4, 5]"
      ]
     },
     "execution_count": 32,
     "metadata": {},
     "output_type": "execute_result"
    }
   ],
   "source": [
    "'''\n",
    "11. Write a function called longlengths that returns the lengths of those strings that have at least 4 characters. Try it with a list comprehension.\n",
    "'''\n",
    "atl4len_lst = []\n",
    "def longlengths(strings):\n",
    "    atl4len_lst = [len(s) for s in strings if len(s) >= 4]\n",
    "    print ( atl4len_lst)\n",
    "    return  atl4len_lst\n",
    "longlengths(['str','hack','none','crack'])"
   ]
  },
  {
   "cell_type": "code",
   "execution_count": 36,
   "metadata": {},
   "outputs": [
    {
     "name": "stdout",
     "output_type": "stream",
     "text": [
      "<map object at 0x7f1230545048>\n"
     ]
    },
    {
     "data": {
      "text/plain": [
       "<map at 0x7f1230545048>"
      ]
     },
     "execution_count": 36,
     "metadata": {},
     "output_type": "execute_result"
    }
   ],
   "source": [
    "'''\n",
    "12. Write a function called longlengths that returns the lengths of those strings that have at least 4 \n",
    "characters. Try it using map and filter.\n",
    "'''\n",
    "atl4_lst = []\n",
    "def longlengths(strings):\n",
    "    atl4_lst = map(lambda st:len(st) , filter(lambda st:len(st) >= 4,strings))\n",
    "    print (atl4_lst)\n",
    "    return atl4_lst\n",
    "longlengths(['nine','jam','crowning'])\n"
   ]
  },
  {
   "cell_type": "code",
   "execution_count": 40,
   "metadata": {},
   "outputs": [
    {
     "name": "stdout",
     "output_type": "stream",
     "text": [
      "19\n"
     ]
    },
    {
     "data": {
      "text/plain": [
       "19"
      ]
     },
     "execution_count": 40,
     "metadata": {},
     "output_type": "execute_result"
    }
   ],
   "source": [
    "'''\n",
    "13. Write a function that takes a list of numbers and returns the sum of the squares of all the numbers. \n",
    "Try it using an accumulator pattern.\n",
    "'''\n",
    "def sumSquares(L):\n",
    "    sum = 0\n",
    "    for num in L:\n",
    "        sum += num*num\n",
    "    print (sum)\n",
    "    return sum\n",
    "\n",
    "nums = [3, 2, 2, -1, 1]\n",
    "sumSquares(nums)"
   ]
  },
  {
   "cell_type": "code",
   "execution_count": 41,
   "metadata": {},
   "outputs": [
    {
     "name": "stdout",
     "output_type": "stream",
     "text": [
      "19\n"
     ]
    },
    {
     "data": {
      "text/plain": [
       "19"
      ]
     },
     "execution_count": 41,
     "metadata": {},
     "output_type": "execute_result"
    }
   ],
   "source": [
    "#14. Write a function that takes a list of numbers and returns the sum of the squares of all the numbers. Try it using map and sum.\n",
    "def sumSquares(L):\n",
    "    sq = map(lambda n:n*n,L)\n",
    "    Sumsq = sum(sq)\n",
    "    print (Sumsq)\n",
    "    return Sumsq\n",
    "\n",
    "nums = [3, 2, 2, -1, 1]\n",
    "sumSquares(nums)"
   ]
  },
  {
   "cell_type": "code",
   "execution_count": 42,
   "metadata": {},
   "outputs": [
    {
     "name": "stdout",
     "output_type": "stream",
     "text": [
      "<zip object at 0x7f123057c788>\n"
     ]
    }
   ],
   "source": [
    "#15. Use the zip function to take the lists below and turn them into a list of tuples, with all the first items in the first tuple, etc.\n",
    "\n",
    "L1 = [1, 2, 3, 4]\n",
    "L2 = [4, 3, 2, 3]\n",
    "L3 = [0, 5, 0, 5]\n",
    "\n",
    "tups = []\n",
    "tups = zip(L1,L2,L3)\n",
    "print (tups)\n"
   ]
  },
  {
   "cell_type": "code",
   "execution_count": 43,
   "metadata": {},
   "outputs": [
    {
     "name": "stdout",
     "output_type": "stream",
     "text": [
      "[4, 5, 3, 5]\n"
     ]
    }
   ],
   "source": [
    "#16. Use zip and map or a list comprehension to make a list consisting the maximum value for each position. For L1, L2, and L3, you would end up with a list [4, 5, 3, 5].\n",
    "L1 = [1, 2, 3, 4]\n",
    "L2 = [4, 3, 2, 3]\n",
    "L3 = [0, 5, 0, 5]\n",
    "\n",
    "maxs = []\n",
    "\n",
    "#maxs = map(lambda x:max(x),zip(L1,L2,L3))\n",
    "maxs = [max(x) for x in zip(L1,L2,L3)]\n",
    "print (maxs)"
   ]
  },
  {
   "cell_type": "code",
   "execution_count": 44,
   "metadata": {},
   "outputs": [
    {
     "name": "stdout",
     "output_type": "stream",
     "text": [
      "['Lauren', 'Nick']\n"
     ]
    }
   ],
   "source": [
    "#17. Write code to assign to the variable compri_sample all the values of the key name in the dictionary tester if they are Juniors. Do this using list comprehension.\n",
    "tester = {'info': [{\"name\": \"Lauren\", 'class standing': 'Junior', 'major': \"Information Science\"},{'name': 'Ayo', 'class standing': \"Bachelor's\", 'major': 'Information Science'}, {'name': 'Kathryn', 'class standing': 'Senior', 'major': 'Sociology'}, {'name': 'Nick', 'class standing': 'Junior', 'major': 'Computer Science'}, {'name': 'Gladys', 'class standing': 'Sophomore', 'major': 'History'}, {'name': 'Adam', 'major': 'Violin Performance', 'class standing': 'Senior'}]}\n",
    "compri_sample = [d[\"name\"] for d in tester['info'] if d['class standing'] == 'Junior']\n",
    "print (compri_sample)\n"
   ]
  },
  {
   "cell_type": "code",
   "execution_count": 45,
   "metadata": {},
   "outputs": [
    {
     "name": "stdout",
     "output_type": "stream",
     "text": [
      "['hi', 'bye', 'hello', 'goodbye', 'hola', 'adios', 'bonjour', 'au revoir']\n",
      "['hi', 'bye', 'hello', 'goodbye', 'hola', 'adios', 'bonjour', 'au revoir']\n"
     ]
    }
   ],
   "source": [
    "#18. Challenge The nested for loop given takes in a list of lists and combines the elements into a single list. Do the same thing using a list comprehension for the list L. Assign it to the variable result2.\n",
    "def onelist(lst):\n",
    "    result = []\n",
    "    for each_list in lst:\n",
    "        for item in each_list:\n",
    "            result.append(item)\n",
    "    return result\n",
    "\n",
    "L = [[\"hi\", \"bye\"], [\"hello\", \"goodbye\"], [\"hola\", \"adios\", \"bonjour\", \"au revoir\"]]\n",
    "print (onelist(L))\n",
    "result2 = [num for n in L for num in n]\n",
    "print (result2)"
   ]
  },
  {
   "cell_type": "code",
   "execution_count": 46,
   "metadata": {},
   "outputs": [
    {
     "name": "stdout",
     "output_type": "stream",
     "text": [
      "[['SI 106', 'ENGLISH 125', 'SI 110', 'AMCULT 202'], ['SI 106', 'SI 410', 'PSYCH 111'], ['WOMENSTD 220', 'SOC 101', 'ENS 384'], ['SOC 101', 'AMCULT 334', 'EECS 281'], ['ENGLISH 125', 'HIST 259', 'ENGLISH 130'], ['PIANO 101', 'STUDIO 300', 'THEORY 229', 'MUSC 356']]\n"
     ]
    }
   ],
   "source": [
    "'''\n",
    "19. Challenge: Write code to assign to the variable class_sched all the values of the key important classes. \n",
    "Do this using list comprehension.\n",
    "'''\n",
    "tester = {'info': [\n",
    "         {\"name\": \"Lauren\", 'class standing': 'Junior', 'major': \"Information Science\", 'important classes': ['SI 106', 'ENGLISH 125', 'SI 110', 'AMCULT 202']},\n",
    "         {'name': 'Ayo', 'class standing': \"Bachelor's\", 'major': 'Information Science', \"important classes\": ['SI 106', 'SI 410', 'PSYCH 111']},\n",
    "         {'name': 'Kathryn', 'class standing': 'Senior', 'major': 'Sociology', 'important classes': ['WOMENSTD 220', 'SOC 101', 'ENS 384']},\n",
    "         {'name': 'Nick', 'class standing': 'Junior', 'major': 'Computer Science', \"important classes\": ['SOC 101', 'AMCULT 334', 'EECS 281']},\n",
    "         {'name': 'Gladys', 'class standing': 'Sophomore', 'major': 'History', 'important classes': ['ENGLISH 125', 'HIST 259', 'ENGLISH 130']},\n",
    "         {'name': 'Adam', 'major': 'Violin Performance', 'class standing': 'Senior', 'important classes': ['PIANO 101', 'STUDIO 300', 'THEORY 229', 'MUSC 356']}]}\n",
    "\n",
    "class_sched = [d['important classes'] for d in tester['info']]\n",
    "print (class_sched)"
   ]
  },
  {
   "cell_type": "code",
   "execution_count": 47,
   "metadata": {},
   "outputs": [
    {
     "name": "stdout",
     "output_type": "stream",
     "text": [
      "[3, 12, 6, 18, 15, 9, 24, 3]\n"
     ]
    }
   ],
   "source": [
    "#20. Challenge: Below, we have provided a list of lists that contain numbers. Using list comprehension, create a new list threes that contains all the numbers from the original list that are divisible by 3. This can be accomplished in one line of code.\n",
    "\n",
    "nums = [[4, 3, 12, 10], [8, 7, 6], [5, 18, 15, 7, 11], [9, 4], [24, 20, 17], [3, 5]]\n",
    "threes = [num for n in nums for num in n if num%3 == 0]\n",
    "print (threes)\n"
   ]
  },
  {
   "cell_type": "code",
   "execution_count": null,
   "metadata": {},
   "outputs": [],
   "source": []
  }
 ],
 "metadata": {
  "kernelspec": {
   "display_name": "Python 3",
   "language": "python",
   "name": "python3"
  },
  "language_info": {
   "codemirror_mode": {
    "name": "ipython",
    "version": 3
   },
   "file_extension": ".py",
   "mimetype": "text/x-python",
   "name": "python",
   "nbconvert_exporter": "python",
   "pygments_lexer": "ipython3",
   "version": "3.5.2"
  }
 },
 "nbformat": 4,
 "nbformat_minor": 4
}

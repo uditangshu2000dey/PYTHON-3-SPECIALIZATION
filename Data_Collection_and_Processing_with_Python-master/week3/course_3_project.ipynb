{
 "cells": [
  {
   "cell_type": "markdown",
   "metadata": {},
   "source": [
    "##  Description: Final Project for Course 3 - OMDB and TasteDive Mashup"
   ]
  },
  {
   "cell_type": "code",
   "execution_count": null,
   "metadata": {},
   "outputs": [],
   "source": [
    "import json\n",
    "import requests_with_caching\n",
    "\n",
    "def get_movies_from_tastedive(param):\n",
    "    request = {\"q\":param,\"type\": \"movies\",\"limit\": 5}\n",
    "    response = requests_with_caching.get(\"https://tastedive.com/api/similar\",params=request)\n",
    "    data = json.loads(response.text)\n",
    "    return data\n",
    "\n",
    "def extract_movie_titles(movie_dict):\n",
    "    titles_list = list()\n",
    "    titles = movie_dict[\"Similar\"][\"Results\"]\n",
    "    for title in titles:\n",
    "        titles_list.append(title[\"Name\"])\n",
    "    return titles_list\n",
    "\n",
    "def get_related_titles(titles_list):\n",
    "    if titles_list != []:\n",
    "        related_list=[]\n",
    "        extracted_related_list = []\n",
    "        for movieName in titles_list:\n",
    "            related_list = extract_movie_titles(get_movies_from_tastedive(movieName))\n",
    "            for movieNameAux in related_list:\n",
    "                if movieNameAux not in extracted_related_list:\n",
    "                    extracted_related_list.append(movieNameAux)\n",
    "        \n",
    "        return extracted_related_list\n",
    "    return titles_list\n",
    "\n",
    "def get_movie_data(title):\n",
    "    query_dict = {'t': title, 'r': 'json'}\n",
    "    request = requests_with_caching.get('http://www.omdbapi.com/', params=query_dict)\n",
    "    response = json.loads(request.text)\n",
    "    return response\n",
    "\n",
    "def get_movie_rating(title_dict):\n",
    "    rating = \"\"\n",
    "    for rating_list in title_dict[\"Ratings\"]:\n",
    "        if rating_list[\"Source\"]== \"Rotten Tomatoes\":\n",
    "            rating = rating_list[\"Value\"]\n",
    "    if rating != \"\":\n",
    "        int_rating = int(rating[:2])\n",
    "    else: int_rating = 0\n",
    "    return int_rating\n",
    "\n",
    "def get_sorted_recommendations(titles):\n",
    "    title_list = get_related_titles(titles)\n",
    "    title_list = sorted(title_list, key = lambda title: (get_movie_rating(get_movie_data(title)), title), reverse=True)\n",
    "    \n",
    "    return title_list\n",
    "\n",
    "\n",
    "# some invocations that we use in the automated tests; uncomment these if you are getting errors and want better error messages\n",
    "get_movies_from_tastedive(\"Bridesmaids\")\n",
    "get_movies_from_tastedive(\"Black Panther\")\n",
    "extract_movie_titles(get_movies_from_tastedive(\"Tony Bennett\"))\n",
    "extract_movie_titles(get_movies_from_tastedive(\"Black Panther\"))\n",
    "get_related_titles([\"Black Panther\", \"Captain Marvel\"])\n",
    "get_movie_rating(get_movie_data(\"Deadpool 2\"))\n",
    "get_movie_data(\"Venom\")\n",
    "get_movie_data(\"Baby Mama\")"
   ]
  }
 ],
 "metadata": {
  "kernelspec": {
   "display_name": "Python 3",
   "language": "python",
   "name": "python3"
  },
  "language_info": {
   "codemirror_mode": {
    "name": "ipython",
    "version": 3
   },
   "file_extension": ".py",
   "mimetype": "text/x-python",
   "name": "python",
   "nbconvert_exporter": "python",
   "pygments_lexer": "ipython3",
   "version": "3.5.2"
  }
 },
 "nbformat": 4,
 "nbformat_minor": 4
}

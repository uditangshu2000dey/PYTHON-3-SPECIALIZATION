{
 "cells": [
  {
   "cell_type": "code",
   "execution_count": 1,
   "metadata": {},
   "outputs": [
    {
     "name": "stdout",
     "output_type": "stream",
     "text": [
      "{'hair': 'brown', 'eye': 'blue'}\n"
     ]
    }
   ],
   "source": [
    "#1. Extract the value associated with the key color and assign it to the variable color. Do not hard code this.\n",
    "\n",
    "info = {'personal_data':\n",
    "         {'name': 'Lauren',\n",
    "          'age': 20,\n",
    "          'major': 'Information Science',\n",
    "          'physical_features':\n",
    "             {'color': {'eye': 'blue',\n",
    "                        'hair': 'brown'},\n",
    "              'height': \"5'8\"}\n",
    "         },\n",
    "       'other':\n",
    "         {'favorite_colors': ['purple', 'green', 'blue'],\n",
    "          'interested_in': ['social media', 'intellectual property', 'copyright', 'music', 'books']\n",
    "         }\n",
    "      }\n",
    "color = info['personal_data']['physical_features']['color']\n",
    "print (color)\n"
   ]
  },
  {
   "cell_type": "code",
   "execution_count": 2,
   "metadata": {},
   "outputs": [],
   "source": [
    "##  JSON"
   ]
  },
  {
   "cell_type": "code",
   "execution_count": 3,
   "metadata": {},
   "outputs": [
    {
     "name": "stdout",
     "output_type": "stream",
     "text": [
      "\n",
      "\n",
      "\n",
      "{\n",
      " \"resultCount\":25,\n",
      " \"results\": [\n",
      "{\"wrapperType\":\"track\", \"kind\":\"podcast\", \"collectionId\":10892}]}\n",
      "------\n",
      "<class 'dict'>\n",
      "dict_keys(['results', 'resultCount'])\n",
      "25\n"
     ]
    }
   ],
   "source": [
    "'''\n",
    "JSON stands for JavaScript Object Notation. It looks a lot like the representation of nested dictionaries and \n",
    "lists in python when we write them out as literals in a program, but with a few small differences \n",
    "(e.g., the word null instead of None). When your program receives a JSON-formatted string,\n",
    "generally you will want to convert it into a python object, a list or a dictionary.\n",
    "\n",
    "Again, python provides a module for doing this. The module is called json.\n",
    "We will be using two functions in this module, loads and dumps.\n",
    "\n",
    "json.loads() takes a string as input and produces a python object (a dictionary or a list) as output.\n",
    "\n",
    "Consider, for example, some data that we might get from Apple’s iTunes, in the JSON format:\n",
    "'''\n",
    "import json\n",
    "a_string = '\\n\\n\\n{\\n \"resultCount\":25,\\n \"results\": [\\n{\"wrapperType\":\"track\", \"kind\":\"podcast\", \"collectionId\":10892}]}'\n",
    "print(a_string)\n",
    "d = json.loads(a_string)\n",
    "print(\"------\")\n",
    "print(type(d))\n",
    "print(d.keys())\n",
    "print(d['resultCount'])\n",
    "# print(a_string['resultCount'])\n"
   ]
  },
  {
   "cell_type": "code",
   "execution_count": 4,
   "metadata": {},
   "outputs": [
    {
     "name": "stdout",
     "output_type": "stream",
     "text": [
      "{'key2': {'c': 'yes', 'b': 3}, 'key1': {'5': 50, 'c': True, 'a': 90}}\n",
      "--------\n",
      "{\n",
      "  \"key1\": {\n",
      "    \"5\": 50,\n",
      "    \"a\": 90,\n",
      "    \"c\": true\n",
      "  },\n",
      "  \"key2\": {\n",
      "    \"b\": 3,\n",
      "    \"c\": \"yes\"\n",
      "  }\n",
      "}\n"
     ]
    }
   ],
   "source": [
    "'''\n",
    "The other function we will use is dumps. It does the inverse of loads.\n",
    "It takes a python object, typically a dictionary or a list, and returns a string, in JSON format.\n",
    "It has a few other parameters. Two useful parameters are sort_keys and indent.\n",
    "When the value True is passed for the sort_keys parameter, the keys of dictionaries are output\n",
    "in alphabetic order with their values. The indent parameter expects an integer. When it is provided,\n",
    "dumps generates a string suitable for displaying to people, \n",
    "with newlines and indentation for nested lists or dictionaries. For example, \n",
    "the following function uses json.dumps to make a human-readable printout of a nested data structure.\n",
    "'''\n",
    "import json\n",
    "def pretty(obj):\n",
    "    return json.dumps(obj, sort_keys=True, indent=2)\n",
    "\n",
    "d = {'key1': {'c': True, 'a': 90, '5': 50}, 'key2':{'b': 3, 'c': \"yes\"}}\n",
    "\n",
    "print(d)\n",
    "print('--------')\n",
    "print(pretty(d))\n"
   ]
  },
  {
   "cell_type": "code",
   "execution_count": null,
   "metadata": {},
   "outputs": [],
   "source": []
  }
 ],
 "metadata": {
  "kernelspec": {
   "display_name": "Python 3",
   "language": "python",
   "name": "python3"
  },
  "language_info": {
   "codemirror_mode": {
    "name": "ipython",
    "version": 3
   },
   "file_extension": ".py",
   "mimetype": "text/x-python",
   "name": "python",
   "nbconvert_exporter": "python",
   "pygments_lexer": "ipython3",
   "version": "3.5.2"
  }
 },
 "nbformat": 4,
 "nbformat_minor": 4
}

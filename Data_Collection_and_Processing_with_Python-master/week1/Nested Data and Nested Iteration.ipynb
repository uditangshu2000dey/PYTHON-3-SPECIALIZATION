{
 "cells": [
  {
   "cell_type": "code",
   "execution_count": 1,
   "metadata": {},
   "outputs": [],
   "source": [
    "#  list with complex items"
   ]
  },
  {
   "cell_type": "code",
   "execution_count": 2,
   "metadata": {},
   "outputs": [
    {
     "name": "stdout",
     "output_type": "stream",
     "text": [
      "['a', 'b', 'c']\n",
      "3\n",
      "-------\n",
      "['a', 'b', 'c']\n",
      "['d', 'e']\n",
      "['f', 'g', 'h']\n",
      "['i']\n"
     ]
    }
   ],
   "source": [
    "'''\n",
    "The lists we have seen so far have had numbers or strings as items. We’ve snuck in a few more complex items, but without ever explicitly discussing what it meant to have more complex items.\n",
    "\n",
    "In fact, the items in a list can be any type of python object. For example, we can have a list of lists.\n",
    "'''\n",
    "nested1 = [['a', 'b', 'c'],['d', 'e'],['f', 'g', 'h']]\n",
    "print(nested1[0])\n",
    "print(len(nested1))\n",
    "nested1.append(['i'])\n",
    "print(\"-------\")\n",
    "for L in nested1:\n",
    "    print(L)"
   ]
  },
  {
   "cell_type": "code",
   "execution_count": 3,
   "metadata": {},
   "outputs": [
    {
     "name": "stdout",
     "output_type": "stream",
     "text": [
      "['d', 'e']\n",
      "d\n",
      "20\n",
      "d\n"
     ]
    }
   ],
   "source": [
    "#With a nested list, you can make complex expressions to get or set a value in a sub-list.\n",
    "nested1 = [['a', 'b', 'c'],['d', 'e'],['f', 'g', 'h']]\n",
    "y = nested1[1]\n",
    "print(y)\n",
    "print(y[0])\n",
    "\n",
    "print([10, 20, 30][1])\n",
    "print(nested1[1][0])"
   ]
  },
  {
   "cell_type": "code",
   "execution_count": 4,
   "metadata": {},
   "outputs": [
    {
     "name": "stdout",
     "output_type": "stream",
     "text": [
      "****names****\n",
      "<function square at 0x7fe39c2a17b8>\n",
      "<built-in function abs>\n",
      "<function <lambda> at 0x7fe39c2a1840>\n",
      "****call each of them****\n",
      "4\n",
      "2\n",
      "-1\n",
      "****just the first one in the list****\n",
      "<function square at 0x7fe39c2a17b8>\n",
      "9\n"
     ]
    }
   ],
   "source": [
    "#You can even have a list of functions (!).\n",
    "def square(x):\n",
    "    return x*x\n",
    "\n",
    "L = [square, abs, lambda x: x+1]\n",
    "\n",
    "print(\"****names****\")\n",
    "for f in L:\n",
    "    print(f)\n",
    "\n",
    "print(\"****call each of them****\")\n",
    "for f in L:\n",
    "    print(f(-2))\n",
    "\n",
    "print(\"****just the first one in the list****\")\n",
    "print(L[0])\n",
    "print(L[0](3))\n"
   ]
  },
  {
   "cell_type": "code",
   "execution_count": 5,
   "metadata": {},
   "outputs": [
    {
     "name": "stdout",
     "output_type": "stream",
     "text": [
      "horse\n"
     ]
    }
   ],
   "source": [
    "#1. Below, we have provided a list of lists. Use indexing to assign the element ‘horse’ to the variable name idx1.\n",
    "animals = [['cat', 'dog', 'mouse'], ['horse', 'cow', 'goat'], ['cheetah', 'giraffe', 'rhino']]\n",
    "idx1 = animals[1][0]\n",
    "print (idx1)\n"
   ]
  },
  {
   "cell_type": "code",
   "execution_count": 6,
   "metadata": {},
   "outputs": [
    {
     "name": "stdout",
     "output_type": "stream",
     "text": [
      "willow\n"
     ]
    }
   ],
   "source": [
    "#2. Using indexing, retrieve the string ‘willow’ from the list and assign that to the variable plant.\n",
    "data = ['bagel', 'cream cheese', 'breakfast', 'grits', 'eggs', 'bacon', [34, 9, 73, []], [['willow', 'birch', 'elm'], 'apple', 'peach', 'cherry']]\n",
    "plant = data[-1][0][0]\n",
    "print (plant)\n"
   ]
  },
  {
   "cell_type": "code",
   "execution_count": null,
   "metadata": {},
   "outputs": [],
   "source": []
  }
 ],
 "metadata": {
  "kernelspec": {
   "display_name": "Python 3",
   "language": "python",
   "name": "python3"
  },
  "language_info": {
   "codemirror_mode": {
    "name": "ipython",
    "version": 3
   },
   "file_extension": ".py",
   "mimetype": "text/x-python",
   "name": "python",
   "nbconvert_exporter": "python",
   "pygments_lexer": "ipython3",
   "version": "3.5.2"
  }
 },
 "nbformat": 4,
 "nbformat_minor": 4
}

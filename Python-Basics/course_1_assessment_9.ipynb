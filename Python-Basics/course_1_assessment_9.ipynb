{
  "nbformat": 4,
  "nbformat_minor": 0,
  "metadata": {
    "colab": {
      "name": "course_1_assessment_9.ipynb",
      "version": "0.3.2",
      "provenance": []
    },
    "kernelspec": {
      "name": "python3",
      "display_name": "Python 3"
    }
  },
  "cells": [
    {
      "cell_type": "markdown",
      "metadata": {
        "id": "V_gTv1nhDujk",
        "colab_type": "text"
      },
      "source": [
        "Write code to add ‘horseback riding’ to the third position (i.e., right before volleyball) in the list sports."
      ]
    },
    {
      "cell_type": "code",
      "metadata": {
        "id": "ahGojwSIDUnk",
        "colab_type": "code",
        "colab": {}
      },
      "source": [
        "sports = ['cricket', 'football', 'volleyball', 'baseball', 'softball', 'track and field', 'curling', 'ping pong', 'hockey']\n",
        "sports.insert(2,'horseback riding')"
      ],
      "execution_count": 0,
      "outputs": []
    },
    {
      "cell_type": "markdown",
      "metadata": {
        "id": "chq1meOFD8vJ",
        "colab_type": "text"
      },
      "source": [
        "Write code to take ‘London’ out of the list trav_dest."
      ]
    },
    {
      "cell_type": "code",
      "metadata": {
        "id": "eNAjWSyvDVsq",
        "colab_type": "code",
        "colab": {}
      },
      "source": [
        "trav_dest = ['Beirut', 'Milan', 'Pittsburgh', 'Buenos Aires', 'Nairobi', 'Kathmandu', 'Osaka', 'London', 'Melbourne']\n",
        "trav_dest.remove('London')"
      ],
      "execution_count": 0,
      "outputs": []
    },
    {
      "cell_type": "markdown",
      "metadata": {
        "id": "cP9scvNAEI28",
        "colab_type": "text"
      },
      "source": [
        "Write code to add ‘Guadalajara’ to the end of the list trav_dest using a list method."
      ]
    },
    {
      "cell_type": "code",
      "metadata": {
        "id": "DAyz6AOpDkYZ",
        "colab_type": "code",
        "colab": {}
      },
      "source": [
        "trav_dest = ['Beirut', 'Milan', 'Pittsburgh', 'Buenos Aires', 'Nairobi', 'Kathmandu', 'Osaka', 'Melbourne']\n",
        "trav_dest.append(\"Guadalajara\")"
      ],
      "execution_count": 0,
      "outputs": []
    },
    {
      "cell_type": "markdown",
      "metadata": {
        "id": "5tBp9TVIEkie",
        "colab_type": "text"
      },
      "source": [
        "Write code to rearrange the strings in the list winners so that they are in alphabetical order from A to Z."
      ]
    },
    {
      "cell_type": "code",
      "metadata": {
        "id": "gUnFD-uQEPE3",
        "colab_type": "code",
        "colab": {}
      },
      "source": [
        "winners = ['Kazuo Ishiguro', 'Rainer Weiss', 'Youyou Tu', 'Malala Yousafzai', 'Alice Munro', 'Alvin E. Roth']\n",
        "winners.sort()"
      ],
      "execution_count": 0,
      "outputs": []
    },
    {
      "cell_type": "markdown",
      "metadata": {
        "id": "tkbH3OHmE3sz",
        "colab_type": "text"
      },
      "source": [
        "Write code to switch the order of the winners list so that it is now Z to A. Assign this list to the variable z_winners."
      ]
    },
    {
      "cell_type": "code",
      "metadata": {
        "id": "L7cujg_KEQxD",
        "colab_type": "code",
        "colab": {
          "base_uri": "https://localhost:8080/",
          "height": 122
        },
        "outputId": "1b74ecd9-fe37-40de-c1f2-b2b1c3c90391"
      },
      "source": [
        "winners = ['Alice Munro', 'Alvin E. Roth', 'Kazuo Ishiguro', 'Malala Yousafzai', 'Rainer Weiss', 'Youyou Tu']\n",
        "winners.sort(reverse=True)\n",
        "z_winners = winners\n"
      ],
      "execution_count": 12,
      "outputs": [
        {
          "output_type": "execute_result",
          "data": {
            "text/plain": [
              "['Alice Munro',\n",
              " 'Alvin E. Roth',\n",
              " 'Kazuo Ishiguro',\n",
              " 'Malala Yousafzai',\n",
              " 'Rainer Weiss',\n",
              " 'Youyou Tu']"
            ]
          },
          "metadata": {
            "tags": []
          },
          "execution_count": 12
        }
      ]
    }
  ]
}
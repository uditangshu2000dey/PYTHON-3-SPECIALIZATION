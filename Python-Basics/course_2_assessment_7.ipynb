{
  "nbformat": 4,
  "nbformat_minor": 0,
  "metadata": {
    "colab": {
      "name": "course_2_assessment_7.ipynb",
      "version": "0.3.2",
      "provenance": []
    },
    "kernelspec": {
      "name": "python3",
      "display_name": "Python 3"
    }
  },
  "cells": [
    {
      "cell_type": "markdown",
      "metadata": {
        "id": "fTLTXjuXQbWf",
        "colab_type": "text"
      },
      "source": [
        "Create a function called mult that has two parameters, the first is required and should be an integer, the second is an optional parameter that can either be a number or a string but whose default is 6. The function should return the first parameter multiplied by the second."
      ]
    },
    {
      "cell_type": "code",
      "metadata": {
        "id": "QQ9hJBp3QYv4",
        "colab_type": "code",
        "colab": {}
      },
      "source": [
        "def mult(x = int() , y = 6):\n",
        "    return x*y\n"
      ],
      "execution_count": 0,
      "outputs": []
    },
    {
      "cell_type": "markdown",
      "metadata": {
        "id": "KfuMYTElQqjU",
        "colab_type": "text"
      },
      "source": [
        "The following function, greeting, does not work. Please fix the code so that it runs without error. This only requires one change in the definition of the function."
      ]
    },
    {
      "cell_type": "code",
      "metadata": {
        "id": "meYpt9KtQqt3",
        "colab_type": "code",
        "colab": {}
      },
      "source": [
        "\n",
        "def greeting(name, greeting=\"Hello \", excl=\"!\"):\n",
        "    return greeting + name + excl\n",
        "\n",
        "print(greeting(\"Bob\"))\n",
        "print(greeting(\"\"))\n",
        "print(greeting(\"Bob\", excl=\"!!!\"))\n"
      ],
      "execution_count": 0,
      "outputs": []
    },
    {
      "cell_type": "markdown",
      "metadata": {
        "id": "Ta9AZteGR8AZ",
        "colab_type": "text"
      },
      "source": [
        "Below is a function, sum, that does not work. Change the function definition so the code works. The function should still have a required parameter, intx, and an optional parameter, intz with a defualt value of 5."
      ]
    },
    {
      "cell_type": "code",
      "metadata": {
        "id": "gVGo8BgUR8NA",
        "colab_type": "code",
        "colab": {}
      },
      "source": [
        "\n",
        "def sum(intx, intz=5):\n",
        "    return intz + intx\n",
        "\n"
      ],
      "execution_count": 0,
      "outputs": []
    },
    {
      "cell_type": "markdown",
      "metadata": {
        "id": "y48cazCQS1z-",
        "colab_type": "text"
      },
      "source": [
        "Write a function, test, that takes in three parameters: a required integer, an optional boolean whose default value is True, and an optional dictionary, called dict1, whose default value is {2:3, 4:5, 6:8}. If the boolean parameter is True, the function should test to see if the integer is a key in the dictionary. The value of that key should then be returned. If the boolean parameter is False, return the boolean value “False”."
      ]
    },
    {
      "cell_type": "code",
      "metadata": {
        "id": "E4e64zY4S2AQ",
        "colab_type": "code",
        "colab": {}
      },
      "source": [
        "def test(x = int(), bo = True, dict1 = {2:3,4:5,6:8}):\n",
        "    if bo == True:\n",
        "        if x in dict1.keys():\n",
        "            return dict1[x]\n",
        "    else:\n",
        "        return(bo)\n"
      ],
      "execution_count": 0,
      "outputs": []
    },
    {
      "cell_type": "markdown",
      "metadata": {
        "id": "D8kkHAQSTvRw",
        "colab_type": "text"
      },
      "source": [
        "Write a function called checkingIfIn that takes three parameters. The first is a required parameter, which should be a string. The second is an optional parameter called direction with a default value of True. The third is an optional parameter called d that has a default value of {'apple': 2, 'pear': 1, 'fruit': 19, 'orange': 5, 'banana': 3, 'grapes': 2, 'watermelon': 7}. Write the function checkingIfIn so that when the second parameter is True, it checks to see if the first parameter is a key in the third parameter; if it is, return True, otherwise return False.\n",
        "\n",
        "But if the second paramter is False, then the function should check to see if the first parameter is not a key of the third. If it’s not, the function should return True in this case, and if it is, it should return False."
      ]
    },
    {
      "cell_type": "code",
      "metadata": {
        "id": "5ADjptXtTve1",
        "colab_type": "code",
        "colab": {}
      },
      "source": [
        "def checkingIfIn(x = '', direction = True, d = {'apple': 2, 'pear': 1, 'fruit': 19, 'orange': 5, 'banana': 3, 'grapes': 2, 'watermelon': 7}):\n",
        "    if direction == True:\n",
        "        if x in d.keys():\n",
        "            return True\n",
        "        else:\n",
        "            return False\n",
        "    else:\n",
        "        if x not in d.keys():\n",
        "            return True\n",
        "        else:\n",
        "            return False\n"
      ],
      "execution_count": 0,
      "outputs": []
    },
    {
      "cell_type": "markdown",
      "metadata": {
        "id": "fCkmxv0JVKfZ",
        "colab_type": "text"
      },
      "source": [
        "We have provided the function checkingIfIn such that if the first input parameter is in the third, dictionary, input parameter, then the function returns that value, and otherwise, it returns False. Follow the instructions in the active code window for specific variable assignmemts."
      ]
    },
    {
      "cell_type": "code",
      "metadata": {
        "id": "rN3rjx00VKrv",
        "colab_type": "code",
        "colab": {}
      },
      "source": [
        "\n",
        "def checkingIfIn(a, direction = True, d = {'apple': 2, 'pear': 1, 'fruit': 19, 'orange': 5, 'banana': 3, 'grapes': 2, 'watermelon': 7}):\n",
        "    if direction == True:\n",
        "        if a in d:\n",
        "            return d[a]\n",
        "        else:\n",
        "            return False\n",
        "    else:\n",
        "        if a not in d:\n",
        "            return True\n",
        "        else:\n",
        "            return d[a]\n",
        "\n",
        "# Call the function so that it returns False and assign that function call to the variable c_false\n",
        "c_false = checkingIfIn('strawberry')\n",
        "# Call the fucntion so that it returns True and assign it to the variable c_true\n",
        "c_true = checkingIfIn('strawberry',False)\n",
        "# Call the function so that the value of fruit is assigned to the variable fruit_ans\n",
        "fruit_ans = checkingIfIn('fruit') \n",
        "# Call the function using the first and third parameter so that the value 8 is assigned to the variable param_check\n",
        "param_check = checkingIfIn('orange') + checkingIfIn('banana')\n"
      ],
      "execution_count": 0,
      "outputs": []
    }
  ]
}
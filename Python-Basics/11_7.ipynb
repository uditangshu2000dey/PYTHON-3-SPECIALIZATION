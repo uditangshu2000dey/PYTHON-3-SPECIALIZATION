{
  "nbformat": 4,
  "nbformat_minor": 0,
  "metadata": {
    "colab": {
      "name": "11.7.ipynb",
      "version": "0.3.2",
      "provenance": []
    },
    "kernelspec": {
      "name": "python3",
      "display_name": "Python 3"
    }
  },
  "cells": [
    {
      "cell_type": "markdown",
      "metadata": {
        "id": "9ggmwEAUBcHA",
        "colab_type": "text"
      },
      "source": [
        "### 11.7"
      ]
    },
    {
      "cell_type": "markdown",
      "metadata": {
        "id": "l4ymTAenBd1D",
        "colab_type": "text"
      },
      "source": [
        "1. The dictionary travel contains the number of countries within each continent that Jackie has traveled to. Find the total number of countries that Jackie has been to, and save this number to the variable name total. Do not hard code this!"
      ]
    },
    {
      "cell_type": "code",
      "metadata": {
        "id": "J21RPnfHBbDK",
        "colab_type": "code",
        "colab": {}
      },
      "source": [
        "travel = {\"North America\": 2, \"Europe\": 8, \"South America\": 3, \"Asia\": 4, \"Africa\":1, \"Antarctica\": 0, \"Australia\": 1}\n",
        "total=0\n",
        "for x in travel.keys():\n",
        "    total += travel[x]"
      ],
      "execution_count": 0,
      "outputs": []
    },
    {
      "cell_type": "markdown",
      "metadata": {
        "id": "EwSsHeMaBtrH",
        "colab_type": "text"
      },
      "source": [
        "2. schedule is a dictionary where a class name is a key and its value is how many credits it was worth. Go through and accumulate the total number of credits that have been earned so far and assign that to the variable total_credits. Do not hardcode."
      ]
    },
    {
      "cell_type": "code",
      "metadata": {
        "id": "FCDc-10YBuHp",
        "colab_type": "code",
        "colab": {}
      },
      "source": [
        "schedule = {\"UARTS 150\": 3, \"SPANISH 103\": 4, \"ENGLISH 125\": 4, \"SI 110\": 4, \"ENS 356\": 2, \"WOMENSTD 240\": 4, \"SI 106\": 4, \"BIO 118\": 3, \"SPANISH 231\": 4, \"PSYCH 111\": 4, \"LING 111\": 3, \"SPANISH 232\": 4, \"STATS 250\": 4, \"SI 206\": 4, \"COGSCI 200\": 4, \"AMCULT 202\": 4, \"ANTHRO 101\": 4}\n",
        "total_credits = 0\n",
        "for x in schedule.keys():\n",
        "    total_credits += schedule[x]\n"
      ],
      "execution_count": 0,
      "outputs": []
    }
  ]
}
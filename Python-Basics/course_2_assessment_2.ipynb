{
  "nbformat": 4,
  "nbformat_minor": 0,
  "metadata": {
    "colab": {
      "name": "course_2_assessment_2.ipynb",
      "version": "0.3.2",
      "provenance": []
    },
    "kernelspec": {
      "name": "python3",
      "display_name": "Python 3"
    }
  },
  "cells": [
    {
      "cell_type": "markdown",
      "metadata": {
        "id": "orBZcC8ly9RU",
        "colab_type": "text"
      },
      "source": [
        "At the halfway point during the Rio Olympics, the United States had 70 medals, Great Britain had 38 medals, China had 45 medals, Russia had 30 medals, and Germany had 17 medals. Create a dictionary assigned to the variable medal_count with the country names as the keys and the number of medals the country had as each key’s value."
      ]
    },
    {
      "cell_type": "code",
      "metadata": {
        "id": "T5ZGqax_y5og",
        "colab_type": "code",
        "colab": {}
      },
      "source": [
        "medal_count = {'United States':70, 'Great Britain':38, 'China':45, 'Russia':30, 'Germany':17}"
      ],
      "execution_count": 0,
      "outputs": []
    },
    {
      "cell_type": "markdown",
      "metadata": {
        "id": "gZO-85yozAh3",
        "colab_type": "text"
      },
      "source": [
        "Given the dictionary swimmers, add an additional key-value pair to the dictionary with \"Phelps\" as the key and the integer 23 as the value. Do not rewrite the entire dictionary."
      ]
    },
    {
      "cell_type": "code",
      "metadata": {
        "id": "eE-wrymtzA-Z",
        "colab_type": "code",
        "colab": {}
      },
      "source": [
        "\n",
        "swimmers = {'Manuel':4, 'Lochte':12, 'Adrian':7, 'Ledecky':5, 'Dirado':4}\n",
        "swimmers['Phelps'] = 23"
      ],
      "execution_count": 0,
      "outputs": []
    },
    {
      "cell_type": "markdown",
      "metadata": {
        "id": "MsnC_4sizKr8",
        "colab_type": "text"
      },
      "source": [
        "Add the string “hockey” as a key to the dictionary sports_periods and assign it the value of 3. Do not rewrite the entire dictionary."
      ]
    },
    {
      "cell_type": "code",
      "metadata": {
        "id": "WL3HOtyKzK13",
        "colab_type": "code",
        "colab": {}
      },
      "source": [
        "sports_periods = {'baseball': 9, 'basketball': 4, 'soccer': 4, 'cricket': 2}\n",
        "sports_periods['hockey'] = 3\n"
      ],
      "execution_count": 0,
      "outputs": []
    },
    {
      "cell_type": "markdown",
      "metadata": {
        "id": "iVoQV0JXzXVX",
        "colab_type": "text"
      },
      "source": [
        "The dictionary golds contains information about how many gold medals each country won in the 2016 Olympics. But today, Spain won 2 more gold medals. Update golds to reflect this information."
      ]
    },
    {
      "cell_type": "code",
      "metadata": {
        "id": "twrw50srzXhB",
        "colab_type": "code",
        "colab": {}
      },
      "source": [
        "golds = {\"Italy\": 12, \"USA\": 33, \"Brazil\": 15, \"China\": 27, \"Spain\": 19, \"Canada\": 22, \"Argentina\": 8, \"England\": 29}\n",
        "golds['Spain'] += 2"
      ],
      "execution_count": 0,
      "outputs": []
    },
    {
      "cell_type": "markdown",
      "metadata": {
        "id": "I2Jk9xxX0gIA",
        "colab_type": "text"
      },
      "source": [
        "Create a list of the countries that are in the dictionary golds, and assign that list to the variable name countries. Do not hard code this."
      ]
    },
    {
      "cell_type": "code",
      "metadata": {
        "id": "VTz5K6-AzkeI",
        "colab_type": "code",
        "colab": {}
      },
      "source": [
        "golds = {\"Italy\": 12, \"USA\": 33, \"Brazil\": 15, \"China\": 27, \"Spain\": 19, \"Canada\": 22, \"Argentina\": 8, \"England\": 29}\n",
        "countries = golds.keys()"
      ],
      "execution_count": 0,
      "outputs": []
    },
    {
      "cell_type": "markdown",
      "metadata": {
        "id": "dVmUtLB-0rGE",
        "colab_type": "text"
      },
      "source": [
        "Provided is the dictionary, medal_count, which lists countries and their respective medal count at the halfway point in the 2016 Rio Olympics. Using dictionary mechanics, assign the medal count value for \"Belarus\" to the variable belarus. Do not hardcode this."
      ]
    },
    {
      "cell_type": "code",
      "metadata": {
        "id": "jKr6_crOzlo3",
        "colab_type": "code",
        "colab": {}
      },
      "source": [
        "medal_count = {'United States': 70, 'Great Britain':38, 'China':45, 'Russia':30, 'Germany':17, 'Italy':22, 'France': 22, 'Japan':26, 'Australia':22, 'South Korea':14, 'Hungary':12, 'Netherlands':10, 'Spain':5, 'New Zealand':8, 'Canada':13, 'Kazakhstan':8, 'Colombia':4, 'Switzerland':5, 'Belgium':4, 'Thailand':4, 'Croatia':3, 'Iran':3, 'Jamaica':3, 'South Africa':7, 'Sweden':6, 'Denmark':7, 'North Korea':6, 'Kenya':4, 'Brazil':7, 'Belarus':4, 'Cuba':5, 'Poland':4, 'Romania':4, 'Slovenia':3, 'Argentina':2, 'Bahrain':2, 'Slovakia':2, 'Vietnam':2, 'Czech Republic':6, 'Uzbekistan':5}\n",
        "belarus = medal_count['Belarus']"
      ],
      "execution_count": 0,
      "outputs": []
    },
    {
      "cell_type": "markdown",
      "metadata": {
        "id": "GUZqdfTL04Ew",
        "colab_type": "text"
      },
      "source": [
        "The dictionary total_golds contains the total number of gold medals that countries have won over the course of history. Use dictionary mechanics to find the number of golds Chile has won, and assign that number to the variable name chile_golds. Do not hard code this!"
      ]
    },
    {
      "cell_type": "code",
      "metadata": {
        "id": "mE-6IIywzoHU",
        "colab_type": "code",
        "colab": {}
      },
      "source": [
        "total_golds = {\"Italy\": 114, \"Germany\": 782, \"Pakistan\": 10, \"Sweden\": 627, \"USA\": 2681, \"Zimbabwe\": 8, \"Greece\": 111, \"Mongolia\": 24, \"Brazil\": 108, \"Croatia\": 34, \"Algeria\": 15, \"Switzerland\": 323, \"Yugoslavia\": 87, \"China\": 526, \"Egypt\": 26, \"Norway\": 477, \"Spain\": 133, \"Australia\": 480, \"Slovakia\": 29, \"Canada\": 22, \"New Zealand\": 100, \"Denmark\": 180, \"Chile\": 13, \"Argentina\": 70, \"Thailand\": 24, \"Cuba\": 209, \"Uganda\": 7,  \"England\": 806, \"Denmark\": 180, \"Ukraine\": 122, \"Bahamas\": 12}\n",
        "chile_golds = total_golds['Chile']"
      ],
      "execution_count": 0,
      "outputs": []
    },
    {
      "cell_type": "markdown",
      "metadata": {
        "id": "aMShKlPg1BQl",
        "colab_type": "text"
      },
      "source": [
        "Provided is a dictionary called US_medals which has the first 70 metals that the United States has won in 2016, and in which category they have won it in. Using dictionary mechanics, assign the value of the key \"Fencing\" to a variable fencing_value. Remember, do not hard code this."
      ]
    },
    {
      "cell_type": "code",
      "metadata": {
        "id": "wrkX779B1BcH",
        "colab_type": "code",
        "colab": {}
      },
      "source": [
        "US_medals = {\"Swimming\": 33, \"Gymnastics\": 6, \"Track & Field\": 6, \"Tennis\": 3, \"Judo\": 2, \"Rowing\": 2, \"Shooting\": 3, \"Cycling - Road\": 1, \"Fencing\": 4, \"Diving\": 2, \"Archery\": 2, \"Cycling - Track\": 1, \"Equestrian\": 2, \"Golf\": 1, \"Weightlifting\": 1}\n",
        "fencing_value = US_medals['Fencing']"
      ],
      "execution_count": 0,
      "outputs": []
    }
  ]
}
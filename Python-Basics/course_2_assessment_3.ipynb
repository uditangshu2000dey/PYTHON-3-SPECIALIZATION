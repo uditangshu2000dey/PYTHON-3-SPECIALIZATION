{
  "nbformat": 4,
  "nbformat_minor": 0,
  "metadata": {
    "colab": {
      "name": "course_2_assessment_3.ipynb",
      "version": "0.3.2",
      "provenance": []
    },
    "kernelspec": {
      "name": "python3",
      "display_name": "Python 3"
    }
  },
  "cells": [
    {
      "cell_type": "markdown",
      "metadata": {
        "id": "59dOqKrVCtXp",
        "colab_type": "text"
      },
      "source": [
        "The dictionary Junior shows a schedule for a junior year semester. The key is the course name and the value is the number of credits. Find the total number of credits taken this semester and assign it to the variable credits. Do not hardcode this – use dictionary accumulation!"
      ]
    },
    {
      "cell_type": "code",
      "metadata": {
        "id": "jcx7hhVkCBo0",
        "colab_type": "code",
        "colab": {}
      },
      "source": [
        "Junior = {'SI 206':4, 'SI 310':4, 'BL 300':3, 'TO 313':3, 'BCOM 350':1, 'MO 300':3}\n",
        "credits = 0\n",
        "for x in Junior.keys():\n",
        "    credits += Junior[x]"
      ],
      "execution_count": 0,
      "outputs": []
    },
    {
      "cell_type": "markdown",
      "metadata": {
        "id": "ZXatb-qACvxJ",
        "colab_type": "text"
      },
      "source": [
        "Create a dictionary, freq, that displays each character in string str1 as the key and its frequency as the value."
      ]
    },
    {
      "cell_type": "code",
      "metadata": {
        "id": "YpcXm5V7Cx-w",
        "colab_type": "code",
        "colab": {}
      },
      "source": [
        "str1 = \"peter piper picked a peck of pickled peppers\"\n",
        "freq = {}\n",
        "for c in str1:\n",
        "    if c not in freq:\n",
        "        freq[c] = 0\n",
        "    freq[c] += 1"
      ],
      "execution_count": 0,
      "outputs": []
    },
    {
      "cell_type": "markdown",
      "metadata": {
        "id": "sbMoJ8OoDNIG",
        "colab_type": "text"
      },
      "source": [
        "Provided is a string saved to the variable name s1. Create a dictionary named counts that contains each letter in s1 and the number of times it occurs."
      ]
    },
    {
      "cell_type": "code",
      "metadata": {
        "id": "zA074f9VDNUB",
        "colab_type": "code",
        "colab": {}
      },
      "source": [
        "s1 = \"hello\"\n",
        "counts = {}\n",
        "for character in s1:\n",
        "    if character not in counts:\n",
        "        counts[character] = 0\n",
        "    counts[character] += 1"
      ],
      "execution_count": 0,
      "outputs": []
    },
    {
      "cell_type": "markdown",
      "metadata": {
        "id": "92fmwnPCGfzi",
        "colab_type": "text"
      },
      "source": [
        "Create a dictionary, freq_words, that displays each word in string str1 as the key and its frequency as the value."
      ]
    },
    {
      "cell_type": "code",
      "metadata": {
        "id": "T_WMCaEMFh8M",
        "colab_type": "code",
        "colab": {}
      },
      "source": [
        "str1 = \"I wish I wish with all my heart to fly with dragons in a land apart\"\n",
        "freq_words = {}\n",
        "words = str1.split(\" \")\n",
        "for character in words:\n",
        "    if character not in freq_words:\n",
        "        freq_words[character] = 0\n",
        "    freq_words[character] += 1\n"
      ],
      "execution_count": 0,
      "outputs": []
    },
    {
      "cell_type": "markdown",
      "metadata": {
        "id": "SrSylBr7Gip0",
        "colab_type": "text"
      },
      "source": [
        "Create a dictionary called wrd_d from the string sent, so that the key is a word and the value is how many times you have seen that word."
      ]
    },
    {
      "cell_type": "code",
      "metadata": {
        "id": "WeWzUcLPGcUN",
        "colab_type": "code",
        "colab": {}
      },
      "source": [
        "sent = \"Singing in the rain and playing in the rain are two entirely different situations but both can be good\"\n",
        "wrd_d = {}\n",
        "words = sent.split(\" \")\n",
        "for character in words:\n",
        "    if character not in wrd_d:\n",
        "        wrd_d[character] = 0\n",
        "    wrd_d[character] += 1\n"
      ],
      "execution_count": 0,
      "outputs": []
    },
    {
      "cell_type": "markdown",
      "metadata": {
        "id": "1t8VJkV5JB73",
        "colab_type": "text"
      },
      "source": [
        "Create the dictionary characters that shows each character from the string sally and its frequency. Then, find the most frequent letter based on the dictionary. Assign this letter to the variable best_char."
      ]
    },
    {
      "cell_type": "code",
      "metadata": {
        "id": "54z8g0i1JCHM",
        "colab_type": "code",
        "colab": {}
      },
      "source": [
        "sally = \"sally sells sea shells by the sea shore\"\n",
        "characters = {}\n",
        "for character in sally:\n",
        "    if character not in characters:\n",
        "        characters[character] = 0\n",
        "    characters[character] += 1\n",
        "max = 0\n",
        "for letter in characters.keys():\n",
        "    if characters[letter] > max:\n",
        "        max = characters[letter]\n",
        "        best_char = letter\n"
      ],
      "execution_count": 0,
      "outputs": []
    },
    {
      "cell_type": "markdown",
      "metadata": {
        "id": "pCHxoALAJr0P",
        "colab_type": "text"
      },
      "source": [
        "Do the same as above but now find the least frequent letter. Create the dictionary characters that shows each character from string sally and its frequency. Then, find the least frequent letter in the string and assign the letter to the variable worst_char."
      ]
    },
    {
      "cell_type": "code",
      "metadata": {
        "id": "2PrCWRk5Jr__",
        "colab_type": "code",
        "colab": {}
      },
      "source": [
        "sally = \"sally sells sea shells by the sea shore and by the road\"\n",
        "characters = {}\n",
        "for character in sally:\n",
        "    if character not in characters:\n",
        "        characters[character] = 0\n",
        "    characters[character] += 1\n",
        "min = characters[characters.keys()[0]]\n",
        "for letter in characters.keys():\n",
        "    if characters[letter] < min:\n",
        "        min = characters[letter]\n",
        "        worst_char = letter\n"
      ],
      "execution_count": 0,
      "outputs": []
    },
    {
      "cell_type": "markdown",
      "metadata": {
        "id": "QUlzmpxGOLzv",
        "colab_type": "text"
      },
      "source": [
        "Create a dictionary named letter_counts that contains each letter and the number of times it occurs in string1. Challenge: Letters should not be counted separately as upper-case and lower-case. Intead, all of them should be counted as lower-case."
      ]
    },
    {
      "cell_type": "code",
      "metadata": {
        "id": "2SHRLSwgOL-1",
        "colab_type": "code",
        "colab": {}
      },
      "source": [
        "string1 = \"There is a tide in the affairs of men, Which taken at the flood, leads on to fortune. Omitted, all the voyage of their life is bound in shallows and in miseries. On such a full sea are we now afloat. And we must take the current when it serves, or lose our ventures.\"\n",
        "string1 = string1.lower()\n",
        "letter_counts = {}\n",
        "for character in string1:\n",
        "    if character not in letter_counts:\n",
        "        letter_counts[character] = 0\n",
        "    letter_counts[character] += 1\n",
        "    \n"
      ],
      "execution_count": 0,
      "outputs": []
    },
    {
      "cell_type": "markdown",
      "metadata": {
        "id": "1kmh9k6IOhgE",
        "colab_type": "text"
      },
      "source": [
        "Create a dictionary called low_d that keeps track of all the characters in the string p and notes how many times each character was seen. Make sure that there are no repeats of characters as keys, such that “T” and “t” are both seen as a “t” for example."
      ]
    },
    {
      "cell_type": "code",
      "metadata": {
        "id": "rkgav_tnOjpT",
        "colab_type": "code",
        "colab": {}
      },
      "source": [
        "p = \"Summer is a great time to go outside. You have to be careful of the sun though because of the heat.\"\n",
        "low_d = {}\n",
        "p = p.lower()\n",
        "for character in p:\n",
        "    if character not in low_d:\n",
        "        low_d[character] = 0\n",
        "    low_d[character] += 1\n"
      ],
      "execution_count": 0,
      "outputs": []
    }
  ]
}
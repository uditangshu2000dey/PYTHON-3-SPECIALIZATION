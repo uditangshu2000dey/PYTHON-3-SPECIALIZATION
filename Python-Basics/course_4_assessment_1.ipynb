{
  "nbformat": 4,
  "nbformat_minor": 0,
  "metadata": {
    "colab": {
      "name": "course_4_assessment_1.ipynb",
      "version": "0.3.2",
      "provenance": []
    },
    "kernelspec": {
      "name": "python2",
      "display_name": "Python 2"
    }
  },
  "cells": [
    {
      "cell_type": "markdown",
      "metadata": {
        "id": "JQ5byTxqaTcD",
        "colab_type": "text"
      },
      "source": [
        "Define a class called Bike that accepts a string and a float as input, and assigns those inputs respectively to two instance variables, color and price. Assign to the variable testOne an instance of Bike whose color is blue and whose price is 89.99. Assign to the variable testTwo an instance of Bike whose color is purple and whose price is 25.0."
      ]
    },
    {
      "cell_type": "code",
      "metadata": {
        "id": "nt1CRgkeaU5y",
        "colab_type": "code",
        "colab": {}
      },
      "source": [
        "class Bike:\n",
        "\n",
        "    def __init__(self, initX = '', initY = float()):\n",
        "\n",
        "        self.color = initX\n",
        "        self.price = initY\n",
        "\n",
        "testOne = Bike('blue', 89.99)\n",
        "testTwo = Bike('purple', 25.0)"
      ],
      "execution_count": 0,
      "outputs": []
    },
    {
      "cell_type": "markdown",
      "metadata": {
        "id": "RthWaVWMaVFw",
        "colab_type": "text"
      },
      "source": [
        "Create a class called AppleBasket whose constructor accepts two inputs: a string representing a color, and a number representing a quantity of apples. The constructor should initialize two instance variables: apple_color and apple_quantity. Write a class method called increase that increases the quantity by 1 each time it is invoked. You should also write a __str__ method for this class that returns a string of the format: \"A basket of [quantity goes here] [color goes here] apples.\" e.g. \"A basket of 4 red apples.\" or \"A basket of 50 blue apples.\" (Writing some test code that creates instances and assigns values to variables may help you solve this problem!)"
      ]
    },
    {
      "cell_type": "code",
      "metadata": {
        "id": "05XaIRGYabJu",
        "colab_type": "code",
        "colab": {}
      },
      "source": [
        "\n",
        "class AppleBasket:\n",
        "    \n",
        "    def __init__(self, initX, initY):\n",
        "        self.apple_color = initX\n",
        "        self.apple_quantity = initY\n",
        "    \n",
        "    def increase(self):\n",
        "        self.apple_quantity += 1\n",
        "        \n",
        "    def __str__(self):\n",
        "        return \"A basket of {} {} apples.\".format(self.apple_quantity, self.apple_color)"
      ],
      "execution_count": 0,
      "outputs": []
    },
    {
      "cell_type": "markdown",
      "metadata": {
        "id": "toncQzsIadYD",
        "colab_type": "text"
      },
      "source": [
        "Define a class called BankAccount that accepts the name you want associated with your bank account in a string, and an integer that represents the amount of money in the account. The constructor should initialize two instance variables from those inputs: name and amt. Add a string method so that when you print an instance of BankAccount, you see \"Your account, [name goes here], has [start_amt goes here] dollars.\" Create an instance of this class with \"Bob\" as the name and 100 as the amount. Save this to the variable t1."
      ]
    },
    {
      "cell_type": "code",
      "metadata": {
        "id": "9Kk8jl_OafNK",
        "colab_type": "code",
        "colab": {}
      },
      "source": [
        "\n",
        "class BankAccount:\n",
        "    def __init__(self, initX, initY):\n",
        "        self.name = initX\n",
        "        self.amt = initY\n",
        "    \n",
        "    def __str__(self):\n",
        "        return \"Your account, {}, has {} dollars.\".format(self.name, self.amt)\n",
        "    \n",
        "t1 = BankAccount(\"Bob\", 100)\n",
        "\n"
      ],
      "execution_count": 0,
      "outputs": []
    }
  ]
}
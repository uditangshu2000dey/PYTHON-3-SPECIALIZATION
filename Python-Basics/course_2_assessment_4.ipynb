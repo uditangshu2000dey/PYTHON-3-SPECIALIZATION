{
  "nbformat": 4,
  "nbformat_minor": 0,
  "metadata": {
    "colab": {
      "name": "course_2_assessment_4.ipynb",
      "version": "0.3.2",
      "provenance": []
    },
    "kernelspec": {
      "name": "python3",
      "display_name": "Python 3"
    }
  },
  "cells": [
    {
      "cell_type": "markdown",
      "metadata": {
        "id": "U4OKbwIHhIOB",
        "colab_type": "text"
      },
      "source": [
        "Write a function called int_return that takes an integer as input and returns the same integer."
      ]
    },
    {
      "cell_type": "code",
      "metadata": {
        "id": "Qs5qMAJ-hFFT",
        "colab_type": "code",
        "colab": {}
      },
      "source": [
        "def int_return(x):\n",
        "    return x"
      ],
      "execution_count": 0,
      "outputs": []
    },
    {
      "cell_type": "markdown",
      "metadata": {
        "id": "-ek4Y91diKsi",
        "colab_type": "text"
      },
      "source": [
        "Write a function called add that takes any number as its input and returns that sum with 2 added."
      ]
    },
    {
      "cell_type": "code",
      "metadata": {
        "id": "4KW56hHOiK3-",
        "colab_type": "code",
        "colab": {}
      },
      "source": [
        "def add(x):\n",
        "    return x+2\n"
      ],
      "execution_count": 0,
      "outputs": []
    },
    {
      "cell_type": "markdown",
      "metadata": {
        "id": "z2Z25MhpiNXn",
        "colab_type": "text"
      },
      "source": [
        "Write a function called change that takes any string, adds “Nice to meet you!” to the end of the argument given, and returns that new string."
      ]
    },
    {
      "cell_type": "code",
      "metadata": {
        "id": "-zol1WMhiXGg",
        "colab_type": "code",
        "colab": {}
      },
      "source": [
        "def change(str):\n",
        "    return str+\"Nice to meet you!\"\n"
      ],
      "execution_count": 0,
      "outputs": []
    },
    {
      "cell_type": "markdown",
      "metadata": {
        "id": "jIsFTB3Ti_X7",
        "colab_type": "text"
      },
      "source": [
        "Write a function, accum, that takes a list of integers as input and returns the sum of those integers.\n"
      ]
    },
    {
      "cell_type": "code",
      "metadata": {
        "id": "WWpTczkti_j0",
        "colab_type": "code",
        "colab": {}
      },
      "source": [
        "def accum(list):\n",
        "    sum = 0\n",
        "    for x in list:\n",
        "        sum += x\n",
        "    return sum\n"
      ],
      "execution_count": 0,
      "outputs": []
    },
    {
      "cell_type": "markdown",
      "metadata": {
        "id": "clKba02qjt_Q",
        "colab_type": "text"
      },
      "source": [
        "Write a function, length, that takes in a list as the input. If the length of the list is greater than or equal to 5, return “Longer than 5”. If the length is less than 5, return “Less than 5”."
      ]
    },
    {
      "cell_type": "code",
      "metadata": {
        "id": "ySuVb0JfjuKt",
        "colab_type": "code",
        "colab": {}
      },
      "source": [
        "def length(list):\n",
        "    if len(list) >= 5:\n",
        "        return \"Longer than 5\"\n",
        "    else:\n",
        "        return \"Less than 5\"\n"
      ],
      "execution_count": 0,
      "outputs": []
    },
    {
      "cell_type": "markdown",
      "metadata": {
        "id": "noRf3OOMjxsR",
        "colab_type": "text"
      },
      "source": [
        "You will need to write two functions for this problem. The first function, divide that takes in any number and returns that same number divided by 2. The second function called sum should take any number, divide it by 2, and add 6. It should return this new number. You should call the divide function within the sum function. Do not worry about decimals."
      ]
    },
    {
      "cell_type": "code",
      "metadata": {
        "id": "XsD9kwRnjyAd",
        "colab_type": "code",
        "colab": {}
      },
      "source": [
        "def divide(x):\n",
        "    return x/2\n",
        "def sum(x):\n",
        "    return divide(x)+6\n"
      ],
      "execution_count": 0,
      "outputs": []
    }
  ]
}
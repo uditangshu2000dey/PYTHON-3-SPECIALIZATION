{
  "nbformat": 4,
  "nbformat_minor": 0,
  "metadata": {
    "colab": {
      "name": "course_2_assessment_8.ipynb",
      "version": "0.3.2",
      "provenance": []
    },
    "kernelspec": {
      "name": "python3",
      "display_name": "Python 3"
    }
  },
  "cells": [
    {
      "cell_type": "markdown",
      "metadata": {
        "id": "wpr45OhOlfX5",
        "colab_type": "text"
      },
      "source": [
        "Sort the following string alphabetically, from z to a, and assign it to the variable sorted_letters."
      ]
    },
    {
      "cell_type": "code",
      "metadata": {
        "id": "2eUCyHW4jm7N",
        "colab_type": "code",
        "colab": {}
      },
      "source": [
        "letters = \"alwnfiwaksuezlaeiajsdl\"\n",
        "sorted_letters = []\n",
        "for char in sorted(letters,reverse = True):\n",
        "    sorted_letters.append(char)"
      ],
      "execution_count": 0,
      "outputs": []
    },
    {
      "cell_type": "markdown",
      "metadata": {
        "id": "WqtAnQejlxmX",
        "colab_type": "text"
      },
      "source": [
        "Sort the list below, animals, into alphabetical order, a-z. Save the new list as animals_sorted."
      ]
    },
    {
      "cell_type": "code",
      "metadata": {
        "id": "6xTf2w7fjnwU",
        "colab_type": "code",
        "colab": {}
      },
      "source": [
        "\n",
        "animals = ['elephant', 'cat', 'moose', 'antelope', 'elk', 'rabbit', 'zebra', 'yak', 'salamander', 'deer', 'otter', 'minx', 'giraffe', 'goat', 'cow', 'tiger', 'bear']\n",
        "animals_sorted = sorted(animals)\n"
      ],
      "execution_count": 0,
      "outputs": []
    },
    {
      "cell_type": "markdown",
      "metadata": {
        "id": "Q9eWm5C-l-Te",
        "colab_type": "text"
      },
      "source": [
        "The dictionary, medals, shows the medal count for six countries during the Rio Olympics. Sort the country names so they appear alphabetically. Save this list to the variable alphabetical."
      ]
    },
    {
      "cell_type": "code",
      "metadata": {
        "id": "XWzWZR8UjplL",
        "colab_type": "code",
        "colab": {}
      },
      "source": [
        "\n",
        "\n",
        "medals = {'Japan':41, 'Russia':56, 'South Korea':21, 'United States':121, 'Germany':42, 'China':70}\n",
        "alphabetical = sorted(medals)\n"
      ],
      "execution_count": 0,
      "outputs": []
    },
    {
      "cell_type": "markdown",
      "metadata": {
        "id": "-aKyGtktUTpw",
        "colab_type": "text"
      },
      "source": [
        "Given the same dictionary, medals, now sort by the medal count. Save the three countries with the highest medal count to the list, top_three."
      ]
    },
    {
      "cell_type": "code",
      "metadata": {
        "id": "KrrkE-EmPJaa",
        "colab_type": "code",
        "colab": {}
      },
      "source": [
        "\n",
        "medals = {'Japan':41, 'Russia':56, 'South Korea':21, 'United States':121, 'Germany':42, 'China':70}\n",
        "top_three = []\n",
        "for value in sorted(list(medals.values()),reverse = True)[:3]:\n",
        "    for x in medals.keys():\n",
        "        if medals[x] == value:\n",
        "            top_three.append(x)"
      ],
      "execution_count": 0,
      "outputs": []
    },
    {
      "cell_type": "markdown",
      "metadata": {
        "id": "ioQkRZZNXBcl",
        "colab_type": "text"
      },
      "source": [
        "We have provided the dictionary groceries. You should return a list of its keys, but they should be sorted by their values, from highest to lowest. Save the new list as most_needed."
      ]
    },
    {
      "cell_type": "code",
      "metadata": {
        "id": "t3sHLEpMXBoR",
        "colab_type": "code",
        "colab": {}
      },
      "source": [
        "\n",
        "groceries = {'apples': 5, 'pasta': 3, 'carrots': 12, 'orange juice': 2, 'bananas': 8, 'popcorn': 1, 'salsa': 3, 'cereal': 4, 'coffee': 5, 'granola bars': 15, 'onions': 7, 'rice': 1, 'peanut butter': 2, 'spinach': 9}\n",
        "most_needed = []\n",
        "ks = groceries.keys()\n",
        "most_needed = sorted(ks, key = lambda x:groceries[x],reverse = True)\n"
      ],
      "execution_count": 0,
      "outputs": []
    },
    {
      "cell_type": "markdown",
      "metadata": {
        "id": "FvvCSNyxYVsY",
        "colab_type": "text"
      },
      "source": [
        "Create a function called last_four that takes in an ID number and returns the last four digits. For example, the number 17573005 should return 3005. Then, use this function to sort the list of ids stored in the variable, ids, from lowest to highest. Save this sorted list in the variable, sorted_ids. Hint: Remember that only strings can be indexed, so conversions may be needed."
      ]
    },
    {
      "cell_type": "code",
      "metadata": {
        "id": "uxdz8tIEYV3z",
        "colab_type": "code",
        "colab": {}
      },
      "source": [
        "\n",
        "def last_four(x):\n",
        "    return str(x)[-4:]\n",
        "\n",
        "ids = [17573005, 17572342, 17579000, 17570002, 17572345, 17579329]\n",
        "d = {}\n",
        "for id in ids:\n",
        "\n",
        "    d[id] = last_four(id)\n",
        "\n",
        "ks = d.keys()\n",
        "sorted_ids = sorted(ks,key = lambda x:d[x])"
      ],
      "execution_count": 0,
      "outputs": []
    },
    {
      "cell_type": "markdown",
      "metadata": {
        "id": "EyzbHCDtZ2Ql",
        "colab_type": "text"
      },
      "source": [
        "Sort the list ids by the last four digits of each id. Do this using lambda and not using a defined function. Save this sorted list in the variable sorted_id."
      ]
    },
    {
      "cell_type": "code",
      "metadata": {
        "id": "f8pT5THdZ2dU",
        "colab_type": "code",
        "colab": {}
      },
      "source": [
        "ids = [17573005, 17572342, 17579000, 17570002, 17572345, 17579329]\n",
        "d = {}\n",
        "for id in ids:\n",
        "\n",
        "    d[id] = str(id)[-4:]\n",
        "ks = d.keys()\n",
        "sorted_id = sorted(ks,key = lambda x:d[x])\n"
      ],
      "execution_count": 0,
      "outputs": []
    },
    {
      "cell_type": "markdown",
      "metadata": {
        "id": "MxzTCKoCaax9",
        "colab_type": "text"
      },
      "source": [
        "Sort the following list by each element’s second letter a to z. Do so by using lambda. Assign the resulting value to the variable lambda_sort."
      ]
    },
    {
      "cell_type": "code",
      "metadata": {
        "id": "9hQdD6fiaYZg",
        "colab_type": "code",
        "colab": {}
      },
      "source": [
        "\n",
        "ex_lst = ['hi', 'how are you', 'bye', 'apple', 'zebra', 'dance']\n",
        "d = {}\n",
        "for ex in ex_lst:\n",
        "    d[ex] = ex[1]\n",
        "ks = d.keys()\n",
        "lambda_sort = sorted(ks, key = lambda x:d[x])\n"
      ],
      "execution_count": 0,
      "outputs": []
    }
  ]
}
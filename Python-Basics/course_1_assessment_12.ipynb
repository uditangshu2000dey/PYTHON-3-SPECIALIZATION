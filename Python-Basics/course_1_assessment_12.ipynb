{
  "nbformat": 4,
  "nbformat_minor": 0,
  "metadata": {
    "colab": {
      "name": "course_1_assessment_12.ipynb",
      "version": "0.3.2",
      "provenance": [],
      "collapsed_sections": []
    },
    "kernelspec": {
      "name": "python3",
      "display_name": "Python 3"
    }
  },
  "cells": [
    {
      "cell_type": "markdown",
      "metadata": {
        "id": "-u6_JfVgIlyR",
        "colab_type": "text"
      },
      "source": [
        "Below are a set of scores that students have received in the past semester. Write code to determine how many are 90 or above and assign that result to the value a_scores."
      ]
    },
    {
      "cell_type": "code",
      "metadata": {
        "id": "MlS_pam6Ik4x",
        "colab_type": "code",
        "colab": {}
      },
      "source": [
        "scores = \"67 80 90 78 93 20 79 89 96 97 92 88 79 68 58 90 98 100 79 74 83 88 80 86 85 70 90 100\"\n",
        "a_scores = 0\n",
        "scores_list = scores.split(\" \")\n",
        "for score in scores_list:\n",
        "    if float(score) >= 90:\n",
        "        a_scores += 1\n"
      ],
      "execution_count": 0,
      "outputs": []
    },
    {
      "cell_type": "markdown",
      "metadata": {
        "id": "8spnZQprLmEp",
        "colab_type": "text"
      },
      "source": [
        "For each string in wrds, add ‘ed’ to the end of the word (to make the word past tense). Save these past tense words to a list called past_wrds."
      ]
    },
    {
      "cell_type": "code",
      "metadata": {
        "id": "-Y5okbnIJfuN",
        "colab_type": "code",
        "colab": {}
      },
      "source": [
        "wrds = [\"end\", 'work', \"play\", \"start\", \"walk\", \"look\", \"open\", \"rain\", \"learn\", \"clean\"]\n",
        "past_wrds = []\n",
        "for word in wrds:\n",
        "    word += 'ed'\n",
        "    past_wrds.append(word)"
      ],
      "execution_count": 0,
      "outputs": []
    },
    {
      "cell_type": "markdown",
      "metadata": {
        "id": "fXJ46bp2Pa4S",
        "colab_type": "text"
      },
      "source": [
        "Write code that uses the string stored in org and creates an acronym which is assigned to the variable acro. Only the first letter of each word should be used, each letter in the acronym should be a capital letter, and there should be nothing to separate the letters of the acronym. Words that should not be included in the acronym are stored in the list stopwords. For example, if org was assigned the string “hello to world” then the resulting acronym should be “HW”."
      ]
    },
    {
      "cell_type": "code",
      "metadata": {
        "id": "lBiqdiQGLipr",
        "colab_type": "code",
        "colab": {}
      },
      "source": [
        "stopwords = ['to', 'a', 'for', 'by', 'an', 'am', 'the', 'so', 'it', 'and', \"The\"]\n",
        "org = \"The organization for health, safety, and education\"\n",
        "org_list = org.split(\" \")\n",
        "acro = ''\n",
        "for word in org_list:\n",
        "  if word not in stopwords:\n",
        "    char = word[0].capitalize()\n",
        "    acro += char"
      ],
      "execution_count": 0,
      "outputs": []
    },
    {
      "cell_type": "markdown",
      "metadata": {
        "id": "DC6AyNs7Qkmc",
        "colab_type": "text"
      },
      "source": [
        "Write code that uses the string stored in sent and creates an acronym which is assigned to the variable acro. The first two letters of each word should be used, each letter in the acronym should be a capital letter, and each element of the acronym should be separated by a “. ” (dot and space). Words that should not be included in the acronym are stored in the list stopwords. For example, if sent was assigned the string “height and ewok wonder” then the resulting acronym should be “HE. EW. WO”."
      ]
    },
    {
      "cell_type": "code",
      "metadata": {
        "id": "pPaugQXuOpWD",
        "colab_type": "code",
        "colab": {}
      },
      "source": [
        "stopwords = ['to', 'a', 'for', 'by', 'an', 'am', 'the', 'so', 'it', 'and', 'The']\n",
        "sent = \"The water earth and air are vital\"\n",
        "sent_list = sent.split(\" \")\n",
        "acro = ''\n",
        "for word in sent_list:\n",
        "  if word not in stopwords:\n",
        "    char1 = word[0].capitalize()\n",
        "    char2 = word[1].capitalize()\n",
        "    acro += '. '\n",
        "    acro += char1\n",
        "    acro += char2\n",
        "acro = acro[2:]\n"
      ],
      "execution_count": 0,
      "outputs": []
    },
    {
      "cell_type": "markdown",
      "metadata": {
        "id": "UOzDJ5oPUwsw",
        "colab_type": "text"
      },
      "source": [
        "A palindrome is a phrase that, if reversed, would read the exact same. Write code that checks if p_phrase is a palindrome by reversing it and then checking if the reversed version is equal to the original. Assign the reversed version of p_phrase to the variable r_phrase so that we can check your work."
      ]
    },
    {
      "cell_type": "code",
      "metadata": {
        "id": "P5yRGIVeQh3O",
        "colab_type": "code",
        "colab": {
          "base_uri": "https://localhost:8080/",
          "height": 34
        },
        "outputId": "1d1bde09-229f-4be9-b6a8-81ec0060d38f"
      },
      "source": [
        "p_phrase = \"was it a car or a cat I saw\"\n",
        "r_phrase = ''\n",
        "for i in range(len(p_phrase)):\n",
        "  r_phrase += p_phrase[-i-1]\n",
        "  i += 1"
      ],
      "execution_count": 20,
      "outputs": [
        {
          "output_type": "execute_result",
          "data": {
            "text/plain": [
              "'was I tac a ro rac a ti saw'"
            ]
          },
          "metadata": {
            "tags": []
          },
          "execution_count": 20
        }
      ]
    },
    {
      "cell_type": "markdown",
      "metadata": {
        "id": "DfFuriTkUrLE",
        "colab_type": "text"
      },
      "source": [
        "Provided is a list of data about a store’s inventory where each item in the list represents the name of an item, how much is in stock, and how much it costs. Print out each item in the list with the same formatting, using the .format method (not string concatenation). For example, the first print statment should read The store has 12 shoes, each for 29.99 USD.\n",
        "1\n",
        "inventory = [\"shoes, 12, 29.99\", \"shirts, 20, 9.99\", \"sweatpants, 25, 15.00\", \"scarves, 13, 7.75\"]\n",
        "2\n",
        "my_string = 'The store has{} {}, each for{} USD.'\n",
        "3\n",
        "for i in range(len(inventory)):\n",
        "4\n",
        "  words = inventory[i].split(\",\")\n",
        "5\n",
        "  print(my_string.format(words[1],words[0],words[2]))\n",
        "6\n",
        "​\n",
        "7\n",
        "​\n",
        "The store has 12 shoes, each for 29.99 USD.\n",
        "The store has 20 shirts, each for 9.99 USD.\n",
        "The store has 25 sweatpants, each for 15.00 USD.\n",
        "The store has 13 scarves, each for 7.75 USD.\n",
        "Result\tActual Value\tExpected Value\tNotes\n",
        "Pass\t'for'\t'inven...]))\\n\\n'\tTesting whether your code includes a for loop.\n",
        "Pass\t'.format('\t'inven...]))\\n\\n'\tTesting whether your code invokes the .format method.\n",
        "Pass\t'The s...USD.\\n'\t'The s...USD.\\n'\tTesting your output.\n"
      ]
    },
    {
      "cell_type": "code",
      "metadata": {
        "id": "tCkf6xYsQw7T",
        "colab_type": "code",
        "colab": {
          "base_uri": "https://localhost:8080/",
          "height": 87
        },
        "outputId": "b473ce83-5a08-457b-8e65-68b10e453add"
      },
      "source": [
        "inventory = [\"shoes, 12, 29.99\", \"shirts, 20, 9.99\", \"sweatpants, 25, 15.00\", \"scarves, 13, 7.75\"]\n",
        "my_string = 'The store has{} {}, each for{} USD.'\n",
        "for i in range(len(inventory)):\n",
        "  words = inventory[i].split(\",\")\n",
        "  print(my_string.format(words[1],words[0],words[2]))"
      ],
      "execution_count": 42,
      "outputs": [
        {
          "output_type": "stream",
          "text": [
            "The store has 12 shoes, each for 29.99 USD.\n",
            "The store has 20 shirts, each for 9.99 USD.\n",
            "The store has 25 sweatpants, each for 15.00 USD.\n",
            "The store has 13 scarves, each for 7.75 USD.\n"
          ],
          "name": "stdout"
        }
      ]
    },
    {
      "cell_type": "code",
      "metadata": {
        "id": "V1F83T17UbuC",
        "colab_type": "code",
        "colab": {}
      },
      "source": [
        ""
      ],
      "execution_count": 0,
      "outputs": []
    }
  ]
}
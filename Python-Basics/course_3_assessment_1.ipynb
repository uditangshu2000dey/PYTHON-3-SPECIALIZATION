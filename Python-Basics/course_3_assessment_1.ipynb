{
  "nbformat": 4,
  "nbformat_minor": 0,
  "metadata": {
    "colab": {
      "name": "course_3_assessment_1.ipynb",
      "version": "0.3.2",
      "provenance": []
    },
    "kernelspec": {
      "name": "python3",
      "display_name": "Python 3"
    }
  },
  "cells": [
    {
      "cell_type": "markdown",
      "metadata": {
        "id": "de16oQ51wNVq",
        "colab_type": "text"
      },
      "source": [
        "The variable nested contains a nested list. Assign ‘snake’ to the variable output using indexing."
      ]
    },
    {
      "cell_type": "code",
      "metadata": {
        "id": "WzLiHv1AwKDD",
        "colab_type": "code",
        "colab": {}
      },
      "source": [
        "\n",
        "nested = [['dog', 'cat', 'horse'], ['frog', 'turtle', 'snake', 'gecko'], ['hamster', 'gerbil', 'rat', 'ferret']]\n",
        "output = nested[1][2]\n"
      ],
      "execution_count": 0,
      "outputs": []
    },
    {
      "cell_type": "markdown",
      "metadata": {
        "id": "KiZ0iBefwxDy",
        "colab_type": "text"
      },
      "source": [
        "Below, a list of lists is provided. Use in and not in tests to create variables with Boolean values. See comments for further instructions."
      ]
    },
    {
      "cell_type": "code",
      "metadata": {
        "id": "bv2E8G2FwxO7",
        "colab_type": "code",
        "colab": {}
      },
      "source": [
        "\n",
        "lst = [['apple', 'orange', 'banana'], [5, 6, 7, 8, 9.9, 10], ['green', 'yellow', 'purple', 'red']]\n",
        "\n",
        "#Test to see if 'yellow' is in the third list of lst. Save to variable ``yellow``\n",
        "if 'yellow' in lst[2]:\n",
        "    yellow = True\n",
        "else:\n",
        "    yellow = False\n",
        "\n",
        "#Test to see if 4 is in the second list of lst. Save to variable ``four``\n",
        "if 4 in lst[1]:\n",
        "    four = True\n",
        "else:\n",
        "    four = False\n",
        "\n",
        "#Test to see if 'orange' is in the first element of lst. Save to variable ``orange``\n",
        "if 'orange' in lst[0]:\n",
        "    orange = True\n",
        "else:\n",
        "    orange = False\n"
      ],
      "execution_count": 0,
      "outputs": []
    },
    {
      "cell_type": "markdown",
      "metadata": {
        "id": "7bot8WjCx5pn",
        "colab_type": "text"
      },
      "source": [
        "Below, we’ve provided a list of lists. Use in statements to create variables with Boolean values - see the ActiveCode window for further directions."
      ]
    },
    {
      "cell_type": "code",
      "metadata": {
        "id": "29VnNY6Lx50Y",
        "colab_type": "code",
        "colab": {}
      },
      "source": [
        "\n",
        "L = [[5, 8, 7], ['hello', 'hi', 'hola'], [6.6, 1.54, 3.99], ['small', 'large']]\n",
        "\n",
        "# Test if 'hola' is in the list L. Save to variable name test1\n",
        "for list in L:\n",
        "    if 'hola' in list:\n",
        "        test1 = True\n",
        "    else:\n",
        "        test1 = False\n",
        "# Test if [5, 8, 7] is in the list L. Save to variable name test2\n",
        "if [5,8,7] in L:\n",
        "    test2 = True\n",
        "else:\n",
        "    test2 = False\n",
        "# Test if 6.6 is in the third element of list L. Save to variable name test3\n",
        "if 6.6 in L[2]:\n",
        "    test3 = True\n",
        "else:\n",
        "    test3 = False\n"
      ],
      "execution_count": 0,
      "outputs": []
    },
    {
      "cell_type": "markdown",
      "metadata": {
        "id": "4UUT4rhKc4mi",
        "colab_type": "text"
      },
      "source": [
        "Provided is a nested data structure. Follow the instructions in the comments below. Do not hard code."
      ]
    },
    {
      "cell_type": "code",
      "metadata": {
        "id": "lOH35KeQc4yT",
        "colab_type": "code",
        "colab": {}
      },
      "source": [
        "\n",
        "nested = {'data': ['finding', 23, ['exercises', 'hangout', 34]], 'window': ['part', 'whole', [], 'sum', ['math', 'calculus', 'algebra', 'geometry', 'statistics',['physics', 'chemistry', 'biology']]]}\n",
        "\n",
        "# Check to see if the string data is a key in nested, if it is, assign True to the variable data, otherwise assign False.\n",
        "if 'data' in nested.keys():\n",
        "    data = True\n",
        "else:\n",
        "    data = False\n",
        "# Check to see if the integer 24 is in the value of the key data, if it is then assign to the variable twentyfour the value of True, otherwise False.\n",
        "if 24 in nested['data']:\n",
        "    twentyfour =  True\n",
        "else:\n",
        "    twentyfour = False\n",
        "# Check to see that the string 'whole' is not in the value of the key window. If it's not, then assign to the variable whole the value of True, otherwise False.\n",
        "if 'whole' not in nested['window']:\n",
        "    whole = True\n",
        "else:\n",
        "    whole = False\n",
        "# Check to see if the string 'physics' is a key in the dictionary nested. If it is, assign to the variable physics, the value of True, otherwise False.\n",
        "if 'physics' in nested.keys():\n",
        "    physics = True\n",
        "else:\n",
        "    physics = False\n"
      ],
      "execution_count": 0,
      "outputs": []
    },
    {
      "cell_type": "markdown",
      "metadata": {
        "id": "eFBeEdtSdMc3",
        "colab_type": "text"
      },
      "source": [
        "The variable nested_d contains a nested dictionary with the gold medal counts for the top four countries in the past three Olympics. Assign the value of Great Britain’s gold medal count from the London Olympics to the variable london_gold. Use indexing. Do not hardcode."
      ]
    },
    {
      "cell_type": "code",
      "metadata": {
        "id": "niOB1TlRdMqJ",
        "colab_type": "code",
        "colab": {}
      },
      "source": [
        "\n",
        "nested_d = {'Beijing':{'China':51, 'USA':36, 'Russia':22, 'Great Britain':19}, 'London':{'USA':46, 'China':38, 'Great Britain':29, 'Russia':22}, 'Rio':{'USA':35, 'Great Britain':22, 'China':20, 'Germany':13}}\n",
        "london_gold = nested_d['London']['Great Britain']\n"
      ],
      "execution_count": 0,
      "outputs": []
    },
    {
      "cell_type": "markdown",
      "metadata": {
        "id": "37mN__G3fMod",
        "colab_type": "text"
      },
      "source": [
        "Below, we have provided a nested dictionary. Index into the dictionary to create variables that we have listed in the ActiveCode window."
      ]
    },
    {
      "cell_type": "code",
      "metadata": {
        "id": "FaLNs8SzfPU3",
        "colab_type": "code",
        "colab": {}
      },
      "source": [
        "\n",
        "sports = {'swimming': ['butterfly', 'breaststroke', 'backstroke', 'freestyle'], 'diving': ['springboard', 'platform', 'synchronized'], 'track': ['sprint', 'distance', 'jumps', 'throws'], 'gymnastics': {'women':['vault', 'floor', 'uneven bars', 'balance beam'], 'men': ['vault', 'parallel bars', 'floor', 'rings']}}\n",
        "\n",
        "# Assign the string 'backstroke' to the name v1\n",
        "v1 = sports['swimming'][2]\n",
        "\n",
        "# Assign the string 'platform' to the name v2\n",
        "v2 = sports['diving'][1]\n",
        "# Assign the list ['vault', 'floor', 'uneven bars', 'balance beam'] to the name v3\n",
        "v3 = sports['gymnastics']['women']\n",
        "# Assign the string 'rings' to the name v4\n",
        "v4 = sports['gymnastics']['men'][3]\n"
      ],
      "execution_count": 0,
      "outputs": []
    },
    {
      "cell_type": "markdown",
      "metadata": {
        "id": "SML6vtOjf0QC",
        "colab_type": "text"
      },
      "source": [
        "Given the dictionary, nested_d, save the medal count for the USA from all three Olympics in the dictionary to the list US_count."
      ]
    },
    {
      "cell_type": "code",
      "metadata": {
        "id": "j14n26Ocf0eV",
        "colab_type": "code",
        "colab": {}
      },
      "source": [
        "\n",
        "nested_d = {'Beijing':{'China':51, 'USA':36, 'Russia':22, 'Great Britain':19}, 'London':{'USA':46, 'China':38, 'Great Britain':29, 'Russia':22}, 'Rio':{'USA':35, 'Great Britain':22, 'China':20, 'Germany':13}}\n",
        "\n",
        "US_count = []\n",
        "for key in nested_d.keys():\n",
        "    US_count.append(nested_d[key]['USA'])\n",
        "\n"
      ],
      "execution_count": 0,
      "outputs": []
    },
    {
      "cell_type": "markdown",
      "metadata": {
        "id": "v7N3WNYvgEmv",
        "colab_type": "text"
      },
      "source": [
        "Iterate through the contents of l_of_l and assign the third element of sublist to a new list called third."
      ]
    },
    {
      "cell_type": "code",
      "metadata": {
        "id": "VFoxe1bNgEyR",
        "colab_type": "code",
        "colab": {}
      },
      "source": [
        "\n",
        "l_of_l = [['purple', 'mauve', 'blue'], ['red', 'maroon', 'blood orange', 'crimson'], ['sea green', 'cornflower', 'lavender', 'indigo'], ['yellow', 'amarillo', 'mac n cheese', 'golden rod']]\n",
        "third = []\n",
        "for list in l_of_l:\n",
        "    third.append(list[2])\n"
      ],
      "execution_count": 0,
      "outputs": []
    },
    {
      "cell_type": "markdown",
      "metadata": {
        "id": "pKr8iU29gvde",
        "colab_type": "text"
      },
      "source": [
        "Given below is a list of lists of athletes. Create a list, t, that saves only the athlete’s name if it contains the letter “t”. If it does not contain the letter “t”, save the athlete name into list other."
      ]
    },
    {
      "cell_type": "code",
      "metadata": {
        "id": "R1aTMcwUgxef",
        "colab_type": "code",
        "colab": {}
      },
      "source": [
        "\n",
        "athletes = [['Phelps', 'Lochte', 'Schooling', 'Ledecky', 'Franklin'], ['Felix', 'Bolt', 'Gardner', 'Eaton'], ['Biles', 'Douglas', 'Hamm', 'Raisman', 'Mikulak', 'Dalton']]\n",
        "t = []\n",
        "other = []\n",
        "for list in athletes:\n",
        "    for word in list:\n",
        "        num = 0\n",
        "        for character in word:\n",
        "            if character == 't':\n",
        "                num += 1\n",
        "        if num > 0:\n",
        "            t.append(word)\n",
        "        else:\n",
        "            other.append(word)\n",
        "           \n"
      ],
      "execution_count": 0,
      "outputs": []
    }
  ]
}
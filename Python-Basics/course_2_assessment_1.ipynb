{
  "nbformat": 4,
  "nbformat_minor": 0,
  "metadata": {
    "colab": {
      "name": "course_2_assessment_1",
      "version": "0.3.2",
      "provenance": []
    },
    "kernelspec": {
      "name": "python3",
      "display_name": "Python 3"
    }
  },
  "cells": [
    {
      "cell_type": "markdown",
      "metadata": {
        "id": "BY9xpEkG5lIQ",
        "colab_type": "text"
      },
      "source": [
        "The textfile, travel_plans.txt, contains the summer travel plans for someone with some commentary. Find the total number of characters in the file and save to the variable num."
      ]
    },
    {
      "cell_type": "code",
      "metadata": {
        "id": "vXEGFr_E5dz-",
        "colab_type": "code",
        "colab": {}
      },
      "source": [
        "travel_plans_file = open(\"travel_plans.txt\",\"r\")\n",
        "\n",
        "num = 0\n",
        "\n",
        "for aline in travel_plans_file:\n",
        "    num += len(aline)\n",
        "\n",
        "travel_plans_file.close()\n"
      ],
      "execution_count": 0,
      "outputs": []
    },
    {
      "cell_type": "markdown",
      "metadata": {
        "id": "RwoxkQhw6VjO",
        "colab_type": "text"
      },
      "source": [
        "We have provided a file called emotion_words.txt that contains lines of words that describe emotions. Find the total number of words in the file and assign this value to the variable num_words."
      ]
    },
    {
      "cell_type": "code",
      "metadata": {
        "id": "xmzXdisG6Vwc",
        "colab_type": "code",
        "colab": {}
      },
      "source": [
        "emotion_words_file = open(\"emotion_words.txt\",\"r\")\n",
        "\n",
        "num_words = 0\n",
        "\n",
        "for aline in emotion_words_file:\n",
        "    for word in aline.split(\" \"):\n",
        "        num_words += 1\n",
        "\n",
        "emotion_words_file.close()"
      ],
      "execution_count": 0,
      "outputs": []
    },
    {
      "cell_type": "markdown",
      "metadata": {
        "id": "Ca7dMlgi6xW1",
        "colab_type": "text"
      },
      "source": [
        "Assign to the variable num_lines the number of lines in the file school_prompt.txt."
      ]
    },
    {
      "cell_type": "code",
      "metadata": {
        "id": "r89o-RC16xin",
        "colab_type": "code",
        "colab": {}
      },
      "source": [
        "school_prompt_file = open(\"school_prompt.txt\",\"r\")\n",
        "\n",
        "num_lines = 0\n",
        "\n",
        "for aline in school_prompt_file:\n",
        "    num_lines += 1\n",
        "\n",
        "school_prompt_file.close()\n"
      ],
      "execution_count": 0,
      "outputs": []
    },
    {
      "cell_type": "markdown",
      "metadata": {
        "id": "7ZM4t47m7LIl",
        "colab_type": "text"
      },
      "source": [
        "Assign the first 30 characters of school_prompt.txt as a string to the variable beginning_chars."
      ]
    },
    {
      "cell_type": "code",
      "metadata": {
        "id": "e-ZJCSQ97LTv",
        "colab_type": "code",
        "colab": {}
      },
      "source": [
        "school_prompt_file = open(\"school_prompt.txt\",\"r\")\n",
        "\n",
        "beginning_chars = school_prompt_file.read(30)\n",
        "\n",
        "school_prompt_file.close()\n"
      ],
      "execution_count": 0,
      "outputs": []
    },
    {
      "cell_type": "markdown",
      "metadata": {
        "id": "AD5ul2KY7kvN",
        "colab_type": "text"
      },
      "source": [
        "Challenge: Using the file school_prompt.txt, assign the third word of every line to a list called three."
      ]
    },
    {
      "cell_type": "code",
      "metadata": {
        "id": "AbZt-1Gj7k6_",
        "colab_type": "code",
        "colab": {}
      },
      "source": [
        "school_prompt_file = open(\"school_prompt.txt\",\"r\")\n",
        "\n",
        "three = []\n",
        "for aline in school_prompt_file:\n",
        "    third_word = aline.split(\" \")[2]\n",
        "    three.append(third_word)\n",
        "\n",
        "school_prompt_file.close()\n",
        "\n"
      ],
      "execution_count": 0,
      "outputs": []
    },
    {
      "cell_type": "markdown",
      "metadata": {
        "id": "OiiZHSI-8AJg",
        "colab_type": "text"
      },
      "source": [
        "Challenge: Create a list called emotions that contains the first word of every line in emotion_words.txt."
      ]
    },
    {
      "cell_type": "code",
      "metadata": {
        "id": "9N1SRCPb8AUn",
        "colab_type": "code",
        "colab": {}
      },
      "source": [
        "emotion_words_file = open(\"emotion_words.txt\",\"r\")\n",
        "\n",
        "emotions = []\n",
        "for aline in emotion_words_file:\n",
        "    first = aline.split(\" \")[0]\n",
        "    emotions.append(first)\n",
        "    \n",
        "emotion_words_file.close()"
      ],
      "execution_count": 0,
      "outputs": []
    },
    {
      "cell_type": "markdown",
      "metadata": {
        "id": "dkY9-t0_8Vv2",
        "colab_type": "text"
      },
      "source": [
        "Assign the first 33 characters from the textfile, travel_plans.txt to the variable first_chars."
      ]
    },
    {
      "cell_type": "code",
      "metadata": {
        "id": "H9X2qsG48V6n",
        "colab_type": "code",
        "colab": {}
      },
      "source": [
        "travel_plans_file = open(\"travel_plans.txt\",\"r\")\n",
        "\n",
        "first_chars = travel_plans_file.read(33)\n",
        "\n",
        "travel_plans_file.close()\n"
      ],
      "execution_count": 0,
      "outputs": []
    },
    {
      "cell_type": "markdown",
      "metadata": {
        "id": "WHY36D34F0Gc",
        "colab_type": "text"
      },
      "source": [
        "Challenge: Using the file school_prompt.txt, if the character ‘p’ is in a word, then add the word to a list called p_words."
      ]
    },
    {
      "cell_type": "code",
      "metadata": {
        "id": "gynERouAEVtq",
        "colab_type": "code",
        "colab": {}
      },
      "source": [
        "school_prompt_file = open(\"school_prompt.txt\",\"r\")\n",
        "\n",
        "\n",
        "p_words = []\n",
        "all_words = school_prompt_file.read().split()\n",
        "for word in all_words:\n",
        "    for i in word:\n",
        "        if i == 'p':\n",
        "            if word not in p_words:\n",
        "                p_words.append(word)\n",
        "school_prompt_file.close()"
      ],
      "execution_count": 0,
      "outputs": []
    },
    {
      "cell_type": "code",
      "metadata": {
        "id": "Lzfyy8cyGBmR",
        "colab_type": "code",
        "colab": {}
      },
      "source": [
        ""
      ],
      "execution_count": 0,
      "outputs": []
    }
  ]
}
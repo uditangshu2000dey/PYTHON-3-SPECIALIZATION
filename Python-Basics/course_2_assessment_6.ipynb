{
  "nbformat": 4,
  "nbformat_minor": 0,
  "metadata": {
    "colab": {
      "name": "course_2_assessment_6.ipynb",
      "version": "0.3.2",
      "provenance": []
    },
    "kernelspec": {
      "name": "python3",
      "display_name": "Python 3"
    }
  },
  "cells": [
    {
      "cell_type": "markdown",
      "metadata": {
        "id": "Ob_9ZwRj4v_0",
        "colab_type": "text"
      },
      "source": [
        "Write a function, sublist, that takes in a list of numbers as the parameter. In the function, use a while loop to return a sublist of the input list. The sublist should contain the same values of the original list up until it reaches the number 5 (it should not contain the number 5)."
      ]
    },
    {
      "cell_type": "code",
      "metadata": {
        "id": "JC6_rZbx4qsX",
        "colab_type": "code",
        "colab": {}
      },
      "source": [
        "def sublist(list):\n",
        "    sub_list = []\n",
        "    for x in list:\n",
        "        if x != 5:\n",
        "            sub_list.append(x)\n",
        "        else:\n",
        "            return(sub_list)\n",
        "    return(sub_list)\n"
      ],
      "execution_count": 0,
      "outputs": []
    },
    {
      "cell_type": "markdown",
      "metadata": {
        "id": "vwTerUWm-e25",
        "colab_type": "text"
      },
      "source": [
        "Write a function called check_nums that takes a list as its parameter, and contains a while loop that only stops once the element of the list is the number 7. What is returned is a list of all of the numbers up until it reaches 7."
      ]
    },
    {
      "cell_type": "code",
      "metadata": {
        "id": "1NriS-nI-fDn",
        "colab_type": "code",
        "colab": {}
      },
      "source": [
        "def check_nums(list):\n",
        "    sub_list=[]\n",
        "    i = 0\n",
        "    while i <len(list) and list[i] != 7:\n",
        "        sub_list.append(list[i])\n",
        "        i += 1\n",
        "    return(sub_list)\n"
      ],
      "execution_count": 0,
      "outputs": []
    },
    {
      "cell_type": "markdown",
      "metadata": {
        "id": "_-fMa86M-2Ib",
        "colab_type": "text"
      },
      "source": [
        "Write a function, sublist, that takes in a list of strings as the parameter. In the function, use a while loop to return a sublist of the input list. The sublist should contain the same values of the original list up until it reaches the string “STOP” (it should not contain the string “STOP”)."
      ]
    },
    {
      "cell_type": "code",
      "metadata": {
        "id": "bOvJBzvD-2Uv",
        "colab_type": "code",
        "colab": {}
      },
      "source": [
        "def sublist(list):\n",
        "    sub_list = []\n",
        "    i = 0\n",
        "    while i < len(list) and list[i] != 'STOP':\n",
        "        sub_list.append(list[i])\n",
        "        i += 1\n",
        "    return(sub_list)\n"
      ],
      "execution_count": 0,
      "outputs": []
    },
    {
      "cell_type": "markdown",
      "metadata": {
        "id": "GushwefzAVf-",
        "colab_type": "text"
      },
      "source": [
        "Write a function called stop_at_z that iterates through a list of strings. Using a while loop, append each string to a new list until the string that appears is “z”. The function should return the new list."
      ]
    },
    {
      "cell_type": "code",
      "metadata": {
        "id": "WYIkmkBSAVrL",
        "colab_type": "code",
        "colab": {}
      },
      "source": [
        "\n",
        "def stop_at_z(list):\n",
        "    i = 0\n",
        "    new_list = []\n",
        "    while i < len(list) and list[i] != 'z':\n",
        "        new_list.append(list[i])\n",
        "        i += 1\n",
        "    return(new_list)\n"
      ],
      "execution_count": 0,
      "outputs": []
    },
    {
      "cell_type": "markdown",
      "metadata": {
        "id": "YyFKvzMvBCwW",
        "colab_type": "text"
      },
      "source": [
        "Below is a for loop that works. Underneath the for loop, rewrite the problem so that it does the same thing, but using a while loop instead of a for loop. Assign the accumulated total in the while loop code to the variable sum2. Once complete, sum2 should equal sum1."
      ]
    },
    {
      "cell_type": "code",
      "metadata": {
        "id": "F8_kHYShBDCr",
        "colab_type": "code",
        "colab": {}
      },
      "source": [
        "\n",
        "sum1 = 0\n",
        "\n",
        "lst = [65, 78, 21, 33]\n",
        "\n",
        "for x in lst:\n",
        "    sum1 = sum1 + x\n",
        "\n",
        "sum2 = 0\n",
        "i = 0\n",
        "while i < len(lst):\n",
        "    sum2 = sum2 + lst[i]\n",
        "    i += 1\n"
      ],
      "execution_count": 0,
      "outputs": []
    },
    {
      "cell_type": "markdown",
      "metadata": {
        "id": "70ld2r3EBqmb",
        "colab_type": "text"
      },
      "source": [
        "Challenge: Write a function called beginning that takes a list as input and contains a while loop that only stops once the element of the list is the string ‘bye’. What is returned is a list that contains up to the first 10 strings, regardless of where the loop stops. (i.e., if it stops on the 32nd element, the first 10 are returned. If “bye” is the 5th element, the first 4 are returned.) If you want to make this even more of a challenge, do this without slicing"
      ]
    },
    {
      "cell_type": "code",
      "metadata": {
        "id": "ly_3BTydBqyJ",
        "colab_type": "code",
        "colab": {}
      },
      "source": [
        "def beginning(list):\n",
        "    i = 0\n",
        "    list_new = []\n",
        "    while list[i] != 'bye':\n",
        "        list_new.append(list[i])\n",
        "        i += 1\n",
        "    return(list_new[:10])\n"
      ],
      "execution_count": 0,
      "outputs": []
    }
  ]
}
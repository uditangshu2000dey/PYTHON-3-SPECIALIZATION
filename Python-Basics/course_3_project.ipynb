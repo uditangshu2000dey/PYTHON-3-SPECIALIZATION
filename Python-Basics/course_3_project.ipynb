{
  "nbformat": 4,
  "nbformat_minor": 0,
  "metadata": {
    "colab": {
      "name": "course_3_project.ipynb",
      "version": "0.3.2",
      "provenance": []
    },
    "kernelspec": {
      "name": "python2",
      "display_name": "Python 2"
    }
  },
  "cells": [
    {
      "cell_type": "code",
      "metadata": {
        "id": "xJXUrnBhjYt3",
        "colab_type": "code",
        "colab": {}
      },
      "source": [
        "\n",
        "import requests_with_caching\n",
        "import json\n",
        "\n",
        "\n",
        "def get_movies_from_tastedive(title):\n",
        "    endpoint = 'https://tastedive.com/api/similar'\n",
        "    param = {}\n",
        "    param['q'] = title\n",
        "    param['limit'] = 5\n",
        "    param['type'] = 'movies'\n",
        "\n",
        "    cache = requests_with_caching.get(endpoint, params=param)\n",
        "    return json.loads(cache.text)\n",
        "\n",
        "\n",
        "# some invocations that we use in the automated tests; uncomment these if you are getting errors and want better error messages\n",
        "get_movies_from_tastedive(\"Bridesmaids\")\n",
        "get_movies_from_tastedive(\"Black Panther\")\n"
      ],
      "execution_count": 0,
      "outputs": []
    },
    {
      "cell_type": "code",
      "metadata": {
        "id": "ZfLnY5MpjZ-M",
        "colab_type": "code",
        "colab": {
          "base_uri": "https://localhost:8080/",
          "height": 34
        },
        "outputId": "d23f4b0b-cab9-41ae-f702-086684251fae"
      },
      "source": [
        "\n",
        "import requests_with_caching\n",
        "import json\n",
        "\n",
        "def get_movies_from_tastedive(title):\n",
        "    endpoint = 'https://tastedive.com/api/similar'\n",
        "    param = {}\n",
        "    param['q'] = title\n",
        "    param['limit'] = 5\n",
        "    param['type'] = 'movies'\n",
        "\n",
        "    cache = requests_with_caching.get(endpoint, params=param)\n",
        "    return json.loads(cache.text)\n",
        "# some invocations that we use in the automated tests; uncomment these if you are getting errors and want better error messages\n",
        "\n",
        "def extract_movie_titles(dict):\n",
        "    list = []\n",
        "    for item in dict['Similar']['Results']:\n",
        "          list.append(item['Name'])\n",
        "    return list\n",
        "\n",
        "extract_movie_titles(get_movies_from_tastedive(\"Tony Bennett\"))\n",
        "extract_movie_titles(get_movies_from_tastedive(\"Black Panther\"))"
      ],
      "execution_count": 2,
      "outputs": [
        {
          "output_type": "execute_result",
          "data": {
            "text/plain": [
              "['Similar']"
            ]
          },
          "metadata": {
            "tags": []
          },
          "execution_count": 2
        }
      ]
    },
    {
      "cell_type": "code",
      "metadata": {
        "id": "3e5OO3Sgjds5",
        "colab_type": "code",
        "colab": {
          "base_uri": "https://localhost:8080/",
          "height": 34
        },
        "outputId": "0c54a076-7ac2-476b-89c5-5351f49c1aeb"
      },
      "source": [
        "\n",
        "import requests_with_caching\n",
        "import json\n",
        "\n",
        "def get_movies_from_tastedive(title):\n",
        "    endpoint = 'https://tastedive.com/api/similar'\n",
        "    param = {}\n",
        "    param['q'] = title\n",
        "    param['limit'] = 5\n",
        "    param['type'] = 'movies'\n",
        "\n",
        "    cache = requests_with_caching.get(endpoint, params=param)\n",
        "    return json.loads(cache.text)\n",
        "# some invocations that we use in the automated tests; uncomment these if you are getting errors and want better error messages\n",
        "\n",
        "def extract_movie_titles(dict):\n",
        "    list = []\n",
        "    for item in dict['Similar']['Results']:\n",
        "          list.append(item['Name'])\n",
        "    return list\n",
        "\n",
        "def get_related_titles(list):\n",
        "    five = []\n",
        "    for movie in list:\n",
        "        five += extract_movie_titles(get_movies_from_tastedive(movie))\n",
        "    unique = []\n",
        "    for movie in five:\n",
        "        if movie not in unique:\n",
        "            unique.append(movie)\n",
        "    return unique\n",
        "# some invocations that we use in the automated tests; uncomment these if you are getting errors and want better error messages\n",
        "get_related_titles([\"Black Panther\", \"Captain Marvel\"])\n",
        "get_related_titles([])\n",
        "\n"
      ],
      "execution_count": 19,
      "outputs": [
        {
          "output_type": "execute_result",
          "data": {
            "text/plain": [
              "['a', 'a', 'c', 'e']"
            ]
          },
          "metadata": {
            "tags": []
          },
          "execution_count": 19
        }
      ]
    },
    {
      "cell_type": "code",
      "metadata": {
        "id": "4YmMFZFmkijd",
        "colab_type": "code",
        "colab": {
          "base_uri": "https://localhost:8080/",
          "height": 34
        },
        "outputId": "a12fba37-0b2b-4d45-a6ea-2bd9ad628671"
      },
      "source": [
        "\n",
        "import requests_with_caching\n",
        "import json\n",
        "\n",
        "def get_movie_data(title):\n",
        "    endpoint = 'http://www.omdbapi.com/'\n",
        "    param = {}\n",
        "    param['t'] = title\n",
        "    param['r'] = 'json'\n",
        "    cache = requests_with_caching.get(endpoint, params=param)\n",
        "\n",
        "    return json.loads(cache.text)\n",
        "\n",
        "def get_movie_rating(dict):\n",
        "    score = 0\n",
        "    for item in dict[\"Ratings\"]:\n",
        "        \n",
        "        if item[\"Source\"] == \"Rotten Tomatoes\":\n",
        "            score = int(item[\"Value\"][:-1])\n",
        "    return score\n",
        "\n",
        "\n",
        "# some invocations that we use in the automated tests; uncomment these if you are getting errors and want better error messages\n",
        "get_movie_rating(get_movie_data(\"Deadpool 2\"))\n",
        "\n"
      ],
      "execution_count": 26,
      "outputs": [
        {
          "output_type": "execute_result",
          "data": {
            "text/plain": [
              "'10'"
            ]
          },
          "metadata": {
            "tags": []
          },
          "execution_count": 26
        }
      ]
    },
    {
      "cell_type": "code",
      "metadata": {
        "id": "FiqlaJ6kpncB",
        "colab_type": "code",
        "colab": {}
      },
      "source": [
        "\n",
        "import requests_with_caching\n",
        "import json\n",
        "\n",
        "def get_movie_data(title):\n",
        "    endpoint = 'http://www.omdbapi.com/'\n",
        "    param = {}\n",
        "    param['t'] = title\n",
        "    param['r'] = 'json'\n",
        "    cache = requests_with_caching.get(endpoint, params=param)\n",
        "\n",
        "    return json.loads(cache.text)\n",
        "\n",
        "def get_movies_from_tastedive(title):\n",
        "    endpoint = 'https://tastedive.com/api/similar'\n",
        "    param = {}\n",
        "    param['q'] = title\n",
        "    param['limit'] = 5\n",
        "    param['type'] = 'movies'\n",
        "\n",
        "    cache = requests_with_caching.get(endpoint, params=param)\n",
        "    return json.loads(cache.text)\n",
        "\n",
        "def get_movie_rating(dict):\n",
        "    score = 0\n",
        "    for item in dict[\"Ratings\"]:\n",
        "        \n",
        "        if item[\"Source\"] == \"Rotten Tomatoes\":\n",
        "            score = int(item[\"Value\"][:-1])\n",
        "    return score\n",
        "\n",
        "def get_related_titles(list):\n",
        "    five = []\n",
        "    for movie in list:\n",
        "        five += extract_movie_titles(get_movies_from_tastedive(movie))\n",
        "    unique = []\n",
        "    for movie in five:\n",
        "        if movie not in unique:\n",
        "            unique.append(movie)\n",
        "    return unique\n",
        "\n",
        "def extract_movie_titles(dict):\n",
        "    list = []\n",
        "    for item in dict['Similar']['Results']:\n",
        "          list.append(item['Name'])\n",
        "    return list\n",
        "\n",
        "def get_sorted_recommendations(list):\n",
        "    rec = {}\n",
        "    for movie in get_related_titles(list):\n",
        "        rec[movie] = get_movie_rating(get_movie_data(movie))\n",
        "    return [i[0] for i in sorted(rec.items(), key=lambda item: (item[1], item[0]), reverse=True)]\n",
        "\n",
        "# some invocations that we use in the automated tests; uncomment these if you are getting errors and want better error messages\n",
        "get_sorted_recommendations([\"Bridesmaids\", \"Sherlock Holmes\"])\n",
        "\n"
      ],
      "execution_count": 0,
      "outputs": []
    },
    {
      "cell_type": "code",
      "metadata": {
        "id": "OdX3XBQkt0oI",
        "colab_type": "code",
        "colab": {}
      },
      "source": [
        ""
      ],
      "execution_count": 0,
      "outputs": []
    }
  ]
}
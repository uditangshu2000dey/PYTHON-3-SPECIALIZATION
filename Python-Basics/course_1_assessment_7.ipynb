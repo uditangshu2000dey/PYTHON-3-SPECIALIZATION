{
  "nbformat": 4,
  "nbformat_minor": 0,
  "metadata": {
    "colab": {
      "name": "course_1_assessment_7.ipynb",
      "version": "0.3.2",
      "provenance": []
    },
    "kernelspec": {
      "name": "python3",
      "display_name": "Python 3"
    }
  },
  "cells": [
    {
      "cell_type": "markdown",
      "metadata": {
        "id": "1JMZ6j-b6YEx",
        "colab_type": "text"
      },
      "source": [
        "rainfall_mi is a string that contains the average number of inches of rainfall in Michigan for every month (in inches) with every month separated by a comma. Write code to compute the number of months that have more than 3 inches of rainfall. Store the result in the variable num_rainy_months. In other words, count the number of items with values > 3.0.\n",
        "\n",
        "Hard-coded answers will receive no credit."
      ]
    },
    {
      "cell_type": "code",
      "metadata": {
        "id": "huzycWlr6W9e",
        "colab_type": "code",
        "colab": {}
      },
      "source": [
        "rainfall_mi = \"1.65, 1.46, 2.05, 3.03, 3.35, 3.46, 2.83, 3.23, 3.5, 2.52, 2.8, 1.85\"\n",
        "num_rainy_months = 0\n",
        "numbers = rainfall_mi.split(\",\")\n",
        "for number in numbers:\n",
        "    if float(number) > 3:\n",
        "        num_rainy_months += 1"
      ],
      "execution_count": 0,
      "outputs": []
    },
    {
      "cell_type": "markdown",
      "metadata": {
        "id": "vVXYcZsi7GFl",
        "colab_type": "text"
      },
      "source": [
        "The variable sentence stores a string. Write code to determine how many words in sentence start and end with the same letter, including one-letter words. Store the result in the variable same_letter_count.\n",
        "\n",
        "Hard-coded answers will receive no credit."
      ]
    },
    {
      "cell_type": "code",
      "metadata": {
        "id": "rsiLDY9L6bm9",
        "colab_type": "code",
        "colab": {}
      },
      "source": [
        "sentence = \"students flock to the arb for a variety of outdoor activities such as jogging and picnicking\"\n",
        "\n",
        "# Write your code here.\n",
        "words = sentence.split(\" \")\n",
        "same_letter_count = 0\n",
        "for word in words:\n",
        "    if str(word)[0] == str(word)[-1]:\n",
        "        same_letter_count += 1"
      ],
      "execution_count": 0,
      "outputs": []
    },
    {
      "cell_type": "markdown",
      "metadata": {
        "id": "svKKyAt28sHw",
        "colab_type": "text"
      },
      "source": [
        "Write code to count the number of strings in list items that have the character w in it. Assign that number to the variable acc_num.\n",
        "\n",
        "HINT 1: Use the accumulation pattern!\n",
        "\n",
        "HINT 2: the in operator checks whether a substring is present in a string.\n",
        "\n",
        "Hard-coded answers will receive no credit."
      ]
    },
    {
      "cell_type": "code",
      "metadata": {
        "id": "ds3PQY-d66i8",
        "colab_type": "code",
        "colab": {}
      },
      "source": [
        "items = [\"whirring\", \"wow!\", \"calendar\", \"wry\", \"glass\", \"\", \"llama\",\"tumultuous\",\"owing\"]\n",
        "acc_num = 0\n",
        "for i in range(len(items)):\n",
        "    word = items[i]\n",
        "    acc_num_word = 0\n",
        "    for character in word:\n",
        "        if character == 'w':\n",
        "            acc_num_word += 1\n",
        "    if acc_num_word != 0:\n",
        "        acc_num += 1 "
      ],
      "execution_count": 0,
      "outputs": []
    },
    {
      "cell_type": "markdown",
      "metadata": {
        "id": "aTtlQFf79YXX",
        "colab_type": "text"
      },
      "source": [
        "Write code that counts the number of words in sentence that contain either an “a” or an “e”. Store the result in the variable num_a_or_e.\n",
        "\n",
        "Note 1: be sure to not double-count words that contain both an a and an e.\n",
        "\n",
        "HINT 1: Use the in operator.\n",
        "\n",
        "HINT 2: You can either use or or elif.\n",
        "\n",
        "Hard-coded answers will receive no credit."
      ]
    },
    {
      "cell_type": "code",
      "metadata": {
        "id": "W7IGwcA173Nn",
        "colab_type": "code",
        "colab": {}
      },
      "source": [
        "sentence = \"python is a high level general purpose programming language that can be applied to many different classes of problems.\"\n",
        "words = sentence.split(\" \")\n",
        "num_a_or_e = 0\n",
        "for word in words:\n",
        "    num_a_or_e_w = 0\n",
        "    for character in word:\n",
        "        if character == \"a\" or character == \"e\":\n",
        "            num_a_or_e_w += 1\n",
        "    if num_a_or_e_w != 0:\n",
        "        num_a_or_e += 1\n",
        "\n"
      ],
      "execution_count": 0,
      "outputs": []
    },
    {
      "cell_type": "markdown",
      "metadata": {
        "id": "slS0Jk-8_IJe",
        "colab_type": "text"
      },
      "source": [
        "Write code that will count the number of vowels in the sentence s and assign the result to the variable num_vowels. For this problem, vowels are only a, e, i, o, and u. Hint: use the in operator with vowels."
      ]
    },
    {
      "cell_type": "code",
      "metadata": {
        "id": "Id2zlW8f74hw",
        "colab_type": "code",
        "colab": {}
      },
      "source": [
        "s = \"singing in the rain and playing in the rain are two entirely different situations but both can be fun\"\n",
        "vowels = ['a','e','i','o','u']\n",
        "num_vowels = 0\n",
        "# Write your code here.\n",
        "for character in s:\n",
        "    if character in vowels:\n",
        "        num_vowels += 1"
      ],
      "execution_count": 0,
      "outputs": []
    }
  ]
}
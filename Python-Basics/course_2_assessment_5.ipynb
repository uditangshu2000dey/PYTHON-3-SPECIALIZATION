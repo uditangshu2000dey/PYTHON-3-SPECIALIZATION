{
  "nbformat": 4,
  "nbformat_minor": 0,
  "metadata": {
    "colab": {
      "name": "course_2_assessment_5.ipynb",
      "version": "0.3.2",
      "provenance": []
    },
    "kernelspec": {
      "name": "python3",
      "display_name": "Python 3"
    }
  },
  "cells": [
    {
      "cell_type": "markdown",
      "metadata": {
        "id": "pelXIer3vxYV",
        "colab_type": "text"
      },
      "source": [
        "Create a tuple called olympics with four elements: “Beijing”, “London”, “Rio”, “Tokyo”."
      ]
    },
    {
      "cell_type": "code",
      "metadata": {
        "id": "XjmeIFPdvwHK",
        "colab_type": "code",
        "colab": {}
      },
      "source": [
        "olympics = (\"Beijing\",\"London\",\"Rio\",\"Tokyo\")"
      ],
      "execution_count": 0,
      "outputs": []
    },
    {
      "cell_type": "markdown",
      "metadata": {
        "id": "iLsOaJgawEFk",
        "colab_type": "text"
      },
      "source": [
        "The list below, tuples_lst, is a list of tuples. Create a list of the second elements of each tuple and assign this list to the variable country."
      ]
    },
    {
      "cell_type": "code",
      "metadata": {
        "id": "F4R0VxUQwERL",
        "colab_type": "code",
        "colab": {}
      },
      "source": [
        "\n",
        "tuples_lst = [('Beijing', 'China', 2008), ('London', 'England', 2012), ('Rio', 'Brazil', 2016, 'Current'), ('Tokyo', 'Japan', 2020, 'Future')]\n",
        "country = []\n",
        "for tuple in tuples_lst:\n",
        "    country.append(tuple[1])\n"
      ],
      "execution_count": 0,
      "outputs": []
    },
    {
      "cell_type": "markdown",
      "metadata": {
        "id": "xxGzyFfHwyHV",
        "colab_type": "text"
      },
      "source": [
        "With only one line of code, assign the variables city, country, and year to the values of the tuple olymp."
      ]
    },
    {
      "cell_type": "code",
      "metadata": {
        "id": "VpfUx6kKwyS9",
        "colab_type": "code",
        "colab": {}
      },
      "source": [
        "\n",
        "olymp = ('Rio', 'Brazil', 2016)\n",
        "city, country, year = olymp\n"
      ],
      "execution_count": 0,
      "outputs": []
    },
    {
      "cell_type": "markdown",
      "metadata": {
        "id": "tG2CUVAZw9up",
        "colab_type": "text"
      },
      "source": [
        "Define a function called info with five parameters: name, gender, age, bday_month, and hometown. The function should then return a tuple with all five parameters in that order."
      ]
    },
    {
      "cell_type": "code",
      "metadata": {
        "id": "_v5ce-07w9ad",
        "colab_type": "code",
        "colab": {}
      },
      "source": [
        "def info(a,b,c,d,e):\n",
        "    return(a,b,c,d,e)\n"
      ],
      "execution_count": 0,
      "outputs": []
    },
    {
      "cell_type": "markdown",
      "metadata": {
        "id": "LucMo5c7x3KW",
        "colab_type": "text"
      },
      "source": [
        "Given is the dictionary, gold, which shows the country and the number of gold medals they have earned so far in the 2016 Olympics. Create a list, num_medals, that contains only the number of medals for each country. You must use the .items() method. Note: The .items() method provides a list of tuples. Do not use .keys() method."
      ]
    },
    {
      "cell_type": "code",
      "metadata": {
        "id": "Je3nzOE1x3WS",
        "colab_type": "code",
        "colab": {}
      },
      "source": [
        "\n",
        "gold = {'USA':31, 'Great Britain':19, 'China':19, 'Germany':13, 'Russia':12, 'Japan':10, 'France':8, 'Italy':8}\n",
        "num_medals = []\n",
        "for tuple in gold.items():\n",
        "    num_medals_single = tuple[1]\n",
        "    num_medals.append(num_medals_single)\n"
      ],
      "execution_count": 0,
      "outputs": []
    }
  ]
}
{
  "nbformat": 4,
  "nbformat_minor": 0,
  "metadata": {
    "colab": {
      "name": "course_3_assessment_2.ipynb",
      "version": "0.3.2",
      "provenance": []
    },
    "kernelspec": {
      "name": "python3",
      "display_name": "Python 3"
    }
  },
  "cells": [
    {
      "cell_type": "markdown",
      "metadata": {
        "id": "m8dDXM8NYJ2E",
        "colab_type": "text"
      },
      "source": [
        "Write code to assign to the variable map_testing all the elements in lst_check while adding the string “Fruit: ” to the beginning of each element using mapping."
      ]
    },
    {
      "cell_type": "code",
      "metadata": {
        "id": "DHjSJmedhKWT",
        "colab_type": "code",
        "colab": {}
      },
      "source": [
        "\n",
        "lst_check = ['plums', 'watermelon', 'kiwi', 'strawberries', 'blueberries', 'peaches', 'apples', 'mangos', 'papaya']\n",
        "map_testing = []\n",
        "def adding(x):\n",
        "    return \"Fruit: \" + x\n",
        "\n",
        "map_testing = map(adding, lst_check)\n"
      ],
      "execution_count": 0,
      "outputs": []
    },
    {
      "cell_type": "markdown",
      "metadata": {
        "id": "CooAebt4YKdm",
        "colab_type": "text"
      },
      "source": [
        "Below, we have provided a list of strings called countries. Use filter to produce a list called b_countries that only contains the strings from countries that begin with B."
      ]
    },
    {
      "cell_type": "code",
      "metadata": {
        "id": "Trh4ASayYKox",
        "colab_type": "code",
        "colab": {}
      },
      "source": [
        "\n",
        "countries = ['Canada', 'Mexico', 'Brazil', 'Chile', 'Denmark', 'Botswana', 'Spain', 'Britain', 'Portugal', 'Russia', 'Thailand', 'Bangladesh', 'Nigeria', 'Argentina', 'Belarus', 'Laos', 'Australia', 'Panama', 'Egypt', 'Morocco', 'Switzerland', 'Belgium']\n",
        "b_countries = []\n",
        "def ifb(x):\n",
        "    if x[0] == 'B':\n",
        "        return True\n",
        "    else:\n",
        "        return False\n",
        "b_countries = filter(ifb, countries)\n"
      ],
      "execution_count": 0,
      "outputs": []
    },
    {
      "cell_type": "markdown",
      "metadata": {
        "id": "8on2J6sKZF9o",
        "colab_type": "text"
      },
      "source": [
        "Below, we have provided a list of tuples that contain the names of Game of Thrones characters. Using list comprehension, create a list of strings called first_names that contains only the first names of everyone in the original list."
      ]
    },
    {
      "cell_type": "code",
      "metadata": {
        "id": "g9vBRT1IZGJc",
        "colab_type": "code",
        "colab": {}
      },
      "source": [
        "\n",
        "people = [('Snow', 'Jon'), ('Lannister', 'Cersei'), ('Stark', 'Arya'), ('Stark', 'Robb'), ('Lannister', 'Jamie'), ('Targaryen', 'Daenerys'), ('Stark', 'Sansa'), ('Tyrell', 'Margaery'), ('Stark', 'Eddard'), ('Lannister', 'Tyrion'), ('Baratheon', 'Joffrey'), ('Bolton', 'Ramsey'), ('Baelish', 'Peter')]\n",
        "first_names = [x[1] for x in people]"
      ],
      "execution_count": 0,
      "outputs": []
    },
    {
      "cell_type": "markdown",
      "metadata": {
        "id": "8uBNieiwbw8F",
        "colab_type": "text"
      },
      "source": [
        "Use list comprehension to create a list called lst2 that doubles each element in the list, lst."
      ]
    },
    {
      "cell_type": "code",
      "metadata": {
        "id": "kHOpXYFLbxI1",
        "colab_type": "code",
        "colab": {}
      },
      "source": [
        "lst = [[\"hi\", \"bye\"], \"hello\", \"goodbye\", [9, 2], 4]\n",
        "\n",
        "lst2 = [x*2 for x in lst]\n"
      ],
      "execution_count": 0,
      "outputs": []
    },
    {
      "cell_type": "markdown",
      "metadata": {
        "id": "cq4j7FGxcakh",
        "colab_type": "text"
      },
      "source": [
        "Below, we have provided a list of tuples that contain students’ names and their final grades in PYTHON 101. Using list comprehension, create a new list passed that contains the names of students who passed the class (had a final grade of 70 or greater)."
      ]
    },
    {
      "cell_type": "code",
      "metadata": {
        "id": "AK9k8I15cayN",
        "colab_type": "code",
        "colab": {}
      },
      "source": [
        "\n",
        "students = [('Tommy', 95), ('Linda', 63), ('Carl', 70), ('Bob', 100), ('Raymond', 50), ('Sue', 75)]\n",
        "passed = [elem[0] for elem in students if elem[1]>= 70]\n"
      ],
      "execution_count": 0,
      "outputs": []
    },
    {
      "cell_type": "markdown",
      "metadata": {
        "id": "2gDQh5VvetWw",
        "colab_type": "text"
      },
      "source": [
        "Write code using zip and filter so that these lists (l1 and l2) are combined into one big list and assigned to the variable opposites if they are both longer than 3 characters each."
      ]
    },
    {
      "cell_type": "code",
      "metadata": {
        "id": "4gnnP9ysetix",
        "colab_type": "code",
        "colab": {}
      },
      "source": [
        "\n",
        "l1 = ['left', 'up', 'front']\n",
        "l2 = ['right', 'down', 'back']\n",
        "def fil(x):\n",
        "    if len(x[0]) > 3 and len(x[1]) > 3:\n",
        "        return True\n",
        "    else:\n",
        "        return False\n",
        "opposites = filter(fil, zip(l1, l2))\n"
      ],
      "execution_count": 0,
      "outputs": []
    },
    {
      "cell_type": "markdown",
      "metadata": {
        "id": "N-x7Tasgglqm",
        "colab_type": "text"
      },
      "source": [
        "Below, we have provided a species list and a population list. Use zip to combine these lists into one list of tuples called pop_info. From this list, create a new list called endangered that contains the names of species whose populations are below 2500."
      ]
    },
    {
      "cell_type": "code",
      "metadata": {
        "id": "E58c2okEgl3q",
        "colab_type": "code",
        "colab": {}
      },
      "source": [
        "\n",
        "species = ['golden retriever', 'white tailed deer', 'black rhino', 'brown squirrel', 'field mouse', 'orangutan', 'sumatran elephant', 'rainbow trout', 'black bear', 'blue whale', 'water moccasin', 'giant panda', 'green turtle', 'blue jay', 'japanese beetle']\n",
        "\n",
        "population = [10000, 90000, 1000, 2000000, 500000, 500, 1200, 8000, 12000, 2300, 7500, 100, 1800, 9500, 125000]\n",
        "pop_info = zip(species,population)\n",
        "endangered = [elem[0] for elem in pop_info if elem[1] < 2500]"
      ],
      "execution_count": 0,
      "outputs": []
    }
  ]
}
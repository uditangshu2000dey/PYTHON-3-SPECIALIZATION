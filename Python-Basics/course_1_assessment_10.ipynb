{
  "nbformat": 4,
  "nbformat_minor": 0,
  "metadata": {
    "colab": {
      "name": "course_1_assessment_10.ipynb",
      "version": "0.3.2",
      "provenance": [],
      "collapsed_sections": []
    },
    "kernelspec": {
      "name": "python3",
      "display_name": "Python 3"
    }
  },
  "cells": [
    {
      "cell_type": "markdown",
      "metadata": {
        "id": "-u6_JfVgIlyR",
        "colab_type": "text"
      },
      "source": [
        "Currently there is a string called str1. Write code to create a list called chars which should contain the characters from str1. Each character in str1 should be its own element in the list chars."
      ]
    },
    {
      "cell_type": "code",
      "metadata": {
        "id": "MlS_pam6Ik4x",
        "colab_type": "code",
        "colab": {}
      },
      "source": [
        "str1 = \"I love python\"\n",
        "# HINT: what's the accumulator? That should go here.\n",
        "chars = []\n",
        "for character in str1:\n",
        "    chars.append(character)"
      ],
      "execution_count": 0,
      "outputs": []
    }
  ]
}
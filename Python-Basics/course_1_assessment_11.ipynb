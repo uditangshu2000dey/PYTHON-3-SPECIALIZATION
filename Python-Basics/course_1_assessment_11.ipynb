{
  "nbformat": 4,
  "nbformat_minor": 0,
  "metadata": {
    "colab": {
      "name": "course_1_assessment_11.ipynb",
      "version": "0.3.2",
      "provenance": [],
      "collapsed_sections": []
    },
    "kernelspec": {
      "name": "python3",
      "display_name": "Python 3"
    }
  },
  "cells": [
    {
      "cell_type": "markdown",
      "metadata": {
        "id": "-u6_JfVgIlyR",
        "colab_type": "text"
      },
      "source": [
        "For each character in the string saved in ael, append that character to a list that should be saved in a variable app."
      ]
    },
    {
      "cell_type": "code",
      "metadata": {
        "id": "MlS_pam6Ik4x",
        "colab_type": "code",
        "colab": {}
      },
      "source": [
        "ael = \"python!\"\n",
        "app = []\n",
        "for character in ael:\n",
        "    app.append(character)\n",
        "    "
      ],
      "execution_count": 0,
      "outputs": []
    },
    {
      "cell_type": "markdown",
      "metadata": {
        "id": "8spnZQprLmEp",
        "colab_type": "text"
      },
      "source": [
        "For each string in wrds, add ‘ed’ to the end of the word (to make the word past tense). Save these past tense words to a list called past_wrds."
      ]
    },
    {
      "cell_type": "code",
      "metadata": {
        "id": "-Y5okbnIJfuN",
        "colab_type": "code",
        "colab": {}
      },
      "source": [
        "wrds = [\"end\", 'work', \"play\", \"start\", \"walk\", \"look\", \"open\", \"rain\", \"learn\", \"clean\"]\n",
        "past_wrds = []\n",
        "for word in wrds:\n",
        "    word += 'ed'\n",
        "    past_wrds.append(word)"
      ],
      "execution_count": 0,
      "outputs": []
    },
    {
      "cell_type": "code",
      "metadata": {
        "id": "lBiqdiQGLipr",
        "colab_type": "code",
        "colab": {}
      },
      "source": [
        ""
      ],
      "execution_count": 0,
      "outputs": []
    }
  ]
}